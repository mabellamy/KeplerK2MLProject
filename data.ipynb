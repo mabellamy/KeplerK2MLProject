{
 "cells": [
  {
   "cell_type": "code",
   "execution_count": 57,
   "metadata": {},
   "outputs": [],
   "source": [
    "import numpy as np\n",
    "import pandas as pd\n",
    "\n",
    "\n"
   ]
  },
  {
   "cell_type": "code",
   "execution_count": 58,
   "metadata": {},
   "outputs": [
    {
     "name": "stdout",
     "output_type": "stream",
     "text": [
      "         kepid kepoi_name koi_disposition koi_pdisposition  koi_score  \\\n",
      "0     10797460  K00752.01       CONFIRMED        CANDIDATE      1.000   \n",
      "1     10797460  K00752.02       CONFIRMED        CANDIDATE      0.969   \n",
      "2     10811496  K00753.01       CANDIDATE        CANDIDATE      0.000   \n",
      "3     10848459  K00754.01  FALSE POSITIVE   FALSE POSITIVE      0.000   \n",
      "4     10854555  K00755.01       CONFIRMED        CANDIDATE      1.000   \n",
      "...        ...        ...             ...              ...        ...   \n",
      "9559  10090151  K07985.01  FALSE POSITIVE   FALSE POSITIVE      0.000   \n",
      "9560  10128825  K07986.01       CANDIDATE        CANDIDATE      0.497   \n",
      "9561  10147276  K07987.01  FALSE POSITIVE   FALSE POSITIVE      0.021   \n",
      "9562  10155286  K07988.01       CANDIDATE        CANDIDATE      0.092   \n",
      "9563  10156110  K07989.01  FALSE POSITIVE   FALSE POSITIVE      0.000   \n",
      "\n",
      "      koi_fpflag_nt  koi_fpflag_ss  koi_fpflag_co  koi_period  koi_time0bk  \\\n",
      "0                 0              0              0    9.488036   170.538750   \n",
      "1                 0              0              0   54.418383   162.513840   \n",
      "2                 0              0              0   19.899140   175.850252   \n",
      "3                 0              1              0    1.736952   170.307565   \n",
      "4                 0              0              0    2.525592   171.595550   \n",
      "...             ...            ...            ...         ...          ...   \n",
      "9559              0              1              1    0.527699   131.705093   \n",
      "9560              0              0              0    1.739849   133.001270   \n",
      "9561              0              0              1    0.681402   132.181750   \n",
      "9562              0              0              0  333.486169   153.615010   \n",
      "9563              0              0              1    4.856035   135.993300   \n",
      "\n",
      "      ...  koi_fwm_srao  koi_fwm_sdeco  koi_fwm_prao  koi_fwm_pdeco  \\\n",
      "0     ...         0.430          0.940     -0.000200      -0.000550   \n",
      "1     ...        -0.630          1.230      0.000660      -0.001050   \n",
      "2     ...        -0.021         -0.038      0.000700       0.000600   \n",
      "3     ...        -0.111          0.002      0.003020      -0.001420   \n",
      "4     ...        -0.010          0.230      0.000080      -0.000070   \n",
      "...   ...           ...            ...           ...            ...   \n",
      "9559  ...         0.792         -0.484     -0.000237       0.000178   \n",
      "9560  ...         0.100          2.000     -0.000018      -0.000074   \n",
      "9561  ...         7.200         -5.600     -0.000720       0.000500   \n",
      "9562  ...         0.310          0.010     -0.000290      -0.000100   \n",
      "9563  ...         2.900          8.900     -0.000230      -0.000700   \n",
      "\n",
      "      koi_dicco_mra  koi_dicco_mdec  koi_dicco_msky  koi_dikco_mra  \\\n",
      "0            -0.010           0.200           0.200          0.080   \n",
      "1             0.390           0.000           0.390          0.490   \n",
      "2            -0.025          -0.034           0.042          0.002   \n",
      "3            -0.249           0.147           0.289         -0.257   \n",
      "4             0.030          -0.090           0.100          0.070   \n",
      "...             ...             ...             ...            ...   \n",
      "9559          2.132          -1.757           2.763          2.344   \n",
      "9560          0.740          -0.250           0.780          0.500   \n",
      "9561          3.410          -3.650           5.000          3.380   \n",
      "9562          1.061           1.320           1.690          1.450   \n",
      "9563          1.020           3.300           3.400          0.960   \n",
      "\n",
      "      koi_dikco_mdec  koi_dikco_msky  \n",
      "0              0.310           0.320  \n",
      "1              0.120           0.500  \n",
      "2             -0.027           0.027  \n",
      "3              0.099           0.276  \n",
      "4              0.020           0.070  \n",
      "...              ...             ...  \n",
      "9559          -1.756           2.929  \n",
      "9560          -0.180           0.530  \n",
      "9561          -3.890           5.160  \n",
      "9562           1.370           2.000  \n",
      "9563           3.400           3.500  \n",
      "\n",
      "[9564 rows x 61 columns]\n"
     ]
    }
   ],
   "source": [
    "###import Kepler Data\n",
    "kepler_data = pd.read_csv(\"KeplerData\\kepler_koi_data.csv\")\n",
    "kepler_koi_data = pd.DataFrame(kepler_data)\n",
    "\n",
    "### Clean up data by removing rows that are full 0s, links to images that do not contain calcuable data, or ID names that are arbitrary to the model\n",
    "kepler_koi_data = kepler_koi_data.drop(['rowid',\n",
    "                                        'kepler_name',\n",
    "                                        'koi_vet_stat',\n",
    "                                        'koi_vet_date',\n",
    "                                        'koi_disp_prov',\n",
    "                                        'koi_comment', \n",
    "                                        'koi_fpflag_ec', \n",
    "                                        'koi_longp', \n",
    "                                        'koi_ingress', \n",
    "                                        'koi_ldm_coeff4', \n",
    "                                        'koi_ldm_coeff3', \n",
    "                                        'koi_model_chisq', \n",
    "                                        'koi_trans_mod', \n",
    "                                        'koi_model_dof', \n",
    "                                        'koi_datalink_dvr', \n",
    "                                        'koi_datalink_dvs', \n",
    "                                        'koi_sparprov',\n",
    "                                        'koi_fittype',\n",
    "                                        'koi_limbdark_mod',\n",
    "                                        'koi_parm_prov',\n",
    "                                        'koi_tce_delivname',\n",
    "                                        'koi_sage'], axis = 1)\n",
    "print(kepler_koi_data)"
   ]
  },
  {
   "cell_type": "code",
   "execution_count": 59,
   "metadata": {},
   "outputs": [
    {
     "name": "stdout",
     "output_type": "stream",
     "text": [
      "      rowid            pl_name        hostname pl_letter   k2_name  \\\n",
      "0         1        BD+20 594 b       BD+20 594         b   K2-56 b   \n",
      "1         2        BD+20 594 b       BD+20 594         b   K2-56 b   \n",
      "2         3        BD+20 594 b       BD+20 594         b   K2-56 b   \n",
      "3         4  EPIC 201111557.01  EPIC 201111557       NaN       NaN   \n",
      "4         5  EPIC 201111557.01  EPIC 201111557       NaN       NaN   \n",
      "...     ...                ...             ...       ...       ...   \n",
      "3512   3513        WASP-85 A b       WASP-85 A         b   K2-94 b   \n",
      "3513   3514        WASP-85 A b       WASP-85 A         b   K2-94 b   \n",
      "3514   3515        WASP-85 A b       WASP-85 A         b   K2-94 b   \n",
      "3515   3516         Wolf 503 b        Wolf 503         b  K2-262 b   \n",
      "3516   3517         Wolf 503 b        Wolf 503         b  K2-262 b   \n",
      "\n",
      "       epic_hostname      epic_candname hd_name   hip_name         tic_id  \\\n",
      "0     EPIC 210848071  EPIC 210848071.01     NaN        NaN   TIC 26123781   \n",
      "1     EPIC 210848071  EPIC 210848071.01     NaN        NaN   TIC 26123781   \n",
      "2     EPIC 210848071  EPIC 210848071.01     NaN        NaN   TIC 26123781   \n",
      "3     EPIC 201111557  EPIC 201111557.01     NaN        NaN  TIC 176942156   \n",
      "4     EPIC 201111557  EPIC 201111557.01     NaN        NaN  TIC 176942156   \n",
      "...              ...                ...     ...        ...            ...   \n",
      "3512  EPIC 201862715  EPIC 201862715.01     NaN        NaN  TIC 380619414   \n",
      "3513  EPIC 201862715  EPIC 201862715.01     NaN        NaN  TIC 380619414   \n",
      "3514  EPIC 201862715  EPIC 201862715.01     NaN        NaN  TIC 380619414   \n",
      "3515  EPIC 212779563                NaN     NaN  HIP 67285  TIC 187278212   \n",
      "3516  EPIC 212779563                NaN     NaN  HIP 67285  TIC 187278212   \n",
      "\n",
      "      ... pl_pubdate  releasedate pl_nnotes k2_campaigns  k2_campaigns_num  \\\n",
      "0     ...    2017-03    4/26/2018         1            4                 1   \n",
      "1     ...    2016-10    7/28/2016         1            4                 1   \n",
      "2     ...    2018-03    2/15/2018         1            4                 1   \n",
      "3     ...    2018-03    2/15/2018         0           10                 1   \n",
      "4     ...    2018-08     8/2/2018         0           10                 1   \n",
      "...   ...        ...          ...       ...          ...               ...   \n",
      "3512  ...    2016-06     7/7/2016         1            1                 1   \n",
      "3513  ...    2016-10   12/21/2016         1            1                 1   \n",
      "3514  ...    2016-09    7/18/2016         1            1                 1   \n",
      "3515  ...    2021-12    5/23/2022         0           17                 1   \n",
      "3516  ...    2018-11     9/6/2018         0           17                 1   \n",
      "\n",
      "      st_nphot  st_nrvc  st_nspec pl_nespec  pl_ntranspec  \n",
      "0            0        0         0         0             0  \n",
      "1            0        0         0         0             0  \n",
      "2            0        0         0         0             0  \n",
      "3            0        0         0         0             0  \n",
      "4            0        0         0         0             0  \n",
      "...        ...      ...       ...       ...           ...  \n",
      "3512         0        0         0         0             0  \n",
      "3513         0        0         0         0             0  \n",
      "3514         0        0         0         0             0  \n",
      "3515         1        0         0         0             0  \n",
      "3516         1        0         0         0             0  \n",
      "\n",
      "[3517 rows x 128 columns]\n"
     ]
    }
   ],
   "source": [
    "###import K2 Objects of Interest Data\n",
    "k2_data = pd.read_csv(\"KeplerData\\k2_oi_data.csv\")\n",
    "\n",
    "print(k2_data)"
   ]
  },
  {
   "cell_type": "code",
   "execution_count": 60,
   "metadata": {},
   "outputs": [
    {
     "name": "stdout",
     "output_type": "stream",
     "text": [
      "The missing percentage of data is:  kepid                0.000000\n",
      "kepoi_name           0.000000\n",
      "koi_disposition      0.000000\n",
      "koi_pdisposition     0.000000\n",
      "koi_score           15.788373\n",
      "                      ...    \n",
      "koi_dicco_mdec       6.263070\n",
      "koi_dicco_msky       6.263070\n",
      "koi_dikco_mra        5.959849\n",
      "koi_dikco_mdec       5.959849\n",
      "koi_dikco_msky       5.959849\n",
      "Length: 61, dtype: float64\n"
     ]
    }
   ],
   "source": [
    "na_values = kepler_koi_data.isna().sum() ### Count of NA Values within the dataframe ###\n",
    "na_percentage = na_values/kepler_koi_data.shape[0] * 100\n",
    "print(\"The missing percentage of data is: \", na_percentage)"
   ]
  },
  {
   "cell_type": "code",
   "execution_count": 61,
   "metadata": {},
   "outputs": [
    {
     "name": "stdout",
     "output_type": "stream",
     "text": [
      "      koi_score  koi_fpflag_nt  koi_fpflag_ss  koi_fpflag_co  koi_period  \\\n",
      "0         1.000              0              0              0    9.488036   \n",
      "1         0.969              0              0              0   54.418383   \n",
      "2         0.000              0              0              0   19.899140   \n",
      "3         0.000              0              1              0    1.736952   \n",
      "4         1.000              0              0              0    2.525592   \n",
      "...         ...            ...            ...            ...         ...   \n",
      "9559      0.000              0              1              1    0.527699   \n",
      "9560      0.497              0              0              0    1.739849   \n",
      "9561      0.021              0              0              1    0.681402   \n",
      "9562      0.092              0              0              0  333.486169   \n",
      "9563      0.000              0              0              1    4.856035   \n",
      "\n",
      "      koi_time0bk    koi_time0  koi_eccen  koi_impact  koi_duration  ...  \\\n",
      "0      170.538750  2455003.539        0.0       0.146       2.95750  ...   \n",
      "1      162.513840  2454995.514        0.0       0.586       4.50700  ...   \n",
      "2      175.850252  2455008.850        0.0       0.969       1.78220  ...   \n",
      "3      170.307565  2455003.308        0.0       1.276       2.40641  ...   \n",
      "4      171.595550  2455004.596        0.0       0.701       1.65450  ...   \n",
      "...           ...          ...        ...         ...           ...  ...   \n",
      "9559   131.705093  2454964.705        0.0       1.252       3.22210  ...   \n",
      "9560   133.001270  2454966.001        0.0       0.043       3.11400  ...   \n",
      "9561   132.181750  2454965.182        0.0       0.147       0.86500  ...   \n",
      "9562   153.615010  2454986.615        0.0       0.214       3.19900  ...   \n",
      "9563   135.993300  2454968.993        0.0       0.134       3.07800  ...   \n",
      "\n",
      "      koi_fwm_srao  koi_fwm_sdeco  koi_fwm_prao  koi_fwm_pdeco  koi_dicco_mra  \\\n",
      "0            0.430          0.940     -0.000200      -0.000550         -0.010   \n",
      "1           -0.630          1.230      0.000660      -0.001050          0.390   \n",
      "2           -0.021         -0.038      0.000700       0.000600         -0.025   \n",
      "3           -0.111          0.002      0.003020      -0.001420         -0.249   \n",
      "4           -0.010          0.230      0.000080      -0.000070          0.030   \n",
      "...            ...            ...           ...            ...            ...   \n",
      "9559         0.792         -0.484     -0.000237       0.000178          2.132   \n",
      "9560         0.100          2.000     -0.000018      -0.000074          0.740   \n",
      "9561         7.200         -5.600     -0.000720       0.000500          3.410   \n",
      "9562         0.310          0.010     -0.000290      -0.000100          1.061   \n",
      "9563         2.900          8.900     -0.000230      -0.000700          1.020   \n",
      "\n",
      "      koi_dicco_mdec  koi_dicco_msky  koi_dikco_mra  koi_dikco_mdec  \\\n",
      "0              0.200           0.200          0.080           0.310   \n",
      "1              0.000           0.390          0.490           0.120   \n",
      "2             -0.034           0.042          0.002          -0.027   \n",
      "3              0.147           0.289         -0.257           0.099   \n",
      "4             -0.090           0.100          0.070           0.020   \n",
      "...              ...             ...            ...             ...   \n",
      "9559          -1.757           2.763          2.344          -1.756   \n",
      "9560          -0.250           0.780          0.500          -0.180   \n",
      "9561          -3.650           5.000          3.380          -3.890   \n",
      "9562           1.320           1.690          1.450           1.370   \n",
      "9563           3.300           3.400          0.960           3.400   \n",
      "\n",
      "      koi_dikco_msky  \n",
      "0              0.320  \n",
      "1              0.500  \n",
      "2              0.027  \n",
      "3              0.276  \n",
      "4              0.070  \n",
      "...              ...  \n",
      "9559           2.929  \n",
      "9560           0.530  \n",
      "9561           5.160  \n",
      "9562           2.000  \n",
      "9563           3.500  \n",
      "\n",
      "[9564 rows x 57 columns]\n"
     ]
    }
   ],
   "source": [
    "### Separate Data Labels ###\n",
    "\n",
    "kepler_index_list = kepler_koi_data['kepid']\n",
    "kepler_koi_data_labels = kepler_koi_data['koi_pdisposition']\n",
    "kepler_koi_data_no_labels = kepler_koi_data[kepler_koi_data.columns[4:]]\n",
    "\n",
    "print(kepler_koi_data_no_labels)"
   ]
  },
  {
   "cell_type": "code",
   "execution_count": 62,
   "metadata": {},
   "outputs": [
    {
     "data": {
      "text/plain": [
       "98.0"
      ]
     },
     "execution_count": 62,
     "metadata": {},
     "output_type": "execute_result"
    }
   ],
   "source": [
    "### Calculate a reasonable number of neighbors for KNN ###\n",
    "from math import sqrt\n",
    "\n",
    "round(sqrt(9564),0)"
   ]
  },
  {
   "cell_type": "code",
   "execution_count": 63,
   "metadata": {},
   "outputs": [
    {
     "name": "stdout",
     "output_type": "stream",
     "text": [
      "[[ 1.00e+00  0.00e+00  0.00e+00 ...  8.00e-02  3.10e-01  3.20e-01]\n",
      " [ 9.69e-01  0.00e+00  0.00e+00 ...  4.90e-01  1.20e-01  5.00e-01]\n",
      " [ 0.00e+00  0.00e+00  0.00e+00 ...  2.00e-03 -2.70e-02  2.70e-02]\n",
      " ...\n",
      " [ 2.10e-02  0.00e+00  0.00e+00 ...  3.38e+00 -3.89e+00  5.16e+00]\n",
      " [ 9.20e-02  0.00e+00  0.00e+00 ...  1.45e+00  1.37e+00  2.00e+00]\n",
      " [ 0.00e+00  0.00e+00  0.00e+00 ...  9.60e-01  3.40e+00  3.50e+00]]\n"
     ]
    }
   ],
   "source": [
    "from sklearn.impute import KNNImputer\n",
    "\n",
    "### Use K-Nearest Neighbor to calculate for missing values within the dataset ###\n",
    "\n",
    "neighborNumber = 98\n",
    "\n",
    "knn_inputer = KNNImputer(n_neighbors=neighborNumber)\n",
    "\n",
    "kepler_knn_inputer = knn_inputer.fit_transform(kepler_koi_data_no_labels)\n",
    "\n",
    "print(kepler_knn_inputer)"
   ]
  },
  {
   "cell_type": "code",
   "execution_count": 64,
   "metadata": {},
   "outputs": [],
   "source": [
    "###Create a Column Name list to recreate Kepler Data Dataframe from the KNNInputer ML Algorithm ###\n",
    "kepler_columns = list(kepler_koi_data_no_labels.columns.values)"
   ]
  },
  {
   "cell_type": "code",
   "execution_count": 65,
   "metadata": {},
   "outputs": [
    {
     "name": "stdout",
     "output_type": "stream",
     "text": [
      "      koi_score  koi_fpflag_nt  koi_fpflag_ss  koi_fpflag_co  koi_period  \\\n",
      "0         1.000            0.0            0.0            0.0    9.488036   \n",
      "1         0.969            0.0            0.0            0.0   54.418383   \n",
      "2         0.000            0.0            0.0            0.0   19.899140   \n",
      "3         0.000            0.0            1.0            0.0    1.736952   \n",
      "4         1.000            0.0            0.0            0.0    2.525592   \n",
      "...         ...            ...            ...            ...         ...   \n",
      "9559      0.000            0.0            1.0            1.0    0.527699   \n",
      "9560      0.497            0.0            0.0            0.0    1.739849   \n",
      "9561      0.021            0.0            0.0            1.0    0.681402   \n",
      "9562      0.092            0.0            0.0            0.0  333.486169   \n",
      "9563      0.000            0.0            0.0            1.0    4.856035   \n",
      "\n",
      "      koi_time0bk    koi_time0  koi_eccen  koi_impact  koi_duration  ...  \\\n",
      "0      170.538750  2455003.539        0.0       0.146       2.95750  ...   \n",
      "1      162.513840  2454995.514        0.0       0.586       4.50700  ...   \n",
      "2      175.850252  2455008.850        0.0       0.969       1.78220  ...   \n",
      "3      170.307565  2455003.308        0.0       1.276       2.40641  ...   \n",
      "4      171.595550  2455004.596        0.0       0.701       1.65450  ...   \n",
      "...           ...          ...        ...         ...           ...  ...   \n",
      "9559   131.705093  2454964.705        0.0       1.252       3.22210  ...   \n",
      "9560   133.001270  2454966.001        0.0       0.043       3.11400  ...   \n",
      "9561   132.181750  2454965.182        0.0       0.147       0.86500  ...   \n",
      "9562   153.615010  2454986.615        0.0       0.214       3.19900  ...   \n",
      "9563   135.993300  2454968.993        0.0       0.134       3.07800  ...   \n",
      "\n",
      "      koi_fwm_srao  koi_fwm_sdeco  koi_fwm_prao  koi_fwm_pdeco  koi_dicco_mra  \\\n",
      "0            0.430          0.940     -0.000200      -0.000550         -0.010   \n",
      "1           -0.630          1.230      0.000660      -0.001050          0.390   \n",
      "2           -0.021         -0.038      0.000700       0.000600         -0.025   \n",
      "3           -0.111          0.002      0.003020      -0.001420         -0.249   \n",
      "4           -0.010          0.230      0.000080      -0.000070          0.030   \n",
      "...            ...            ...           ...            ...            ...   \n",
      "9559         0.792         -0.484     -0.000237       0.000178          2.132   \n",
      "9560         0.100          2.000     -0.000018      -0.000074          0.740   \n",
      "9561         7.200         -5.600     -0.000720       0.000500          3.410   \n",
      "9562         0.310          0.010     -0.000290      -0.000100          1.061   \n",
      "9563         2.900          8.900     -0.000230      -0.000700          1.020   \n",
      "\n",
      "      koi_dicco_mdec  koi_dicco_msky  koi_dikco_mra  koi_dikco_mdec  \\\n",
      "0              0.200           0.200          0.080           0.310   \n",
      "1              0.000           0.390          0.490           0.120   \n",
      "2             -0.034           0.042          0.002          -0.027   \n",
      "3              0.147           0.289         -0.257           0.099   \n",
      "4             -0.090           0.100          0.070           0.020   \n",
      "...              ...             ...            ...             ...   \n",
      "9559          -1.757           2.763          2.344          -1.756   \n",
      "9560          -0.250           0.780          0.500          -0.180   \n",
      "9561          -3.650           5.000          3.380          -3.890   \n",
      "9562           1.320           1.690          1.450           1.370   \n",
      "9563           3.300           3.400          0.960           3.400   \n",
      "\n",
      "      koi_dikco_msky  \n",
      "0              0.320  \n",
      "1              0.500  \n",
      "2              0.027  \n",
      "3              0.276  \n",
      "4              0.070  \n",
      "...              ...  \n",
      "9559           2.929  \n",
      "9560           0.530  \n",
      "9561           5.160  \n",
      "9562           2.000  \n",
      "9563           3.500  \n",
      "\n",
      "[9564 rows x 57 columns]\n"
     ]
    }
   ],
   "source": [
    "###Convert KNN Array to Dataframe with proper Column Labels###\n",
    "kepler_knn_inputer = pd.DataFrame(kepler_knn_inputer)\n",
    "kepler_knn_inputer = kepler_knn_inputer.rename(columns = {0:'koi_score', 1:'koi_fpflag_nt', 2:'koi_fpflag_ss', \n",
    "                                                            3:'koi_fpflag_co', 4:'koi_period', 5:'koi_time0bk', \n",
    "                                                            6:'koi_time0', 7:'koi_eccen', 8:'koi_impact', \n",
    "                                                            9:'koi_duration', 10:'koi_depth', 11:'koi_ror', \n",
    "                                                            12:'koi_srho', 13:'koi_prad', 14:'koi_sma', \n",
    "                                                            15:'koi_incl', 16:'koi_teq', 17:'koi_insol', \n",
    "                                                            18:'koi_dor', 19:'koi_ldm_coeff2', 20:'koi_ldm_coeff1', \n",
    "                                                            21:'koi_max_sngle_ev', 22:'koi_max_mult_ev', 23:'koi_model_snr', \n",
    "                                                            24:'koi_count', 25:'koi_num_transits', 26:'koi_tce_plnt_num', \n",
    "                                                            27:'koi_quarters', 28:'koi_bin_oedp_sig', 29:'koi_steff', \n",
    "                                                            30:'koi_slogg', 31:'koi_smet', 32:'koi_srad', \n",
    "                                                            33:'koi_smass', 34:'ra', 35:'dec', 36:'koi_kepmag', \n",
    "                                                            37:'koi_gmag', 38:'koi_rmag', 39:'koi_imag', \n",
    "                                                            40:'koi_zmag', 41:'koi_jmag', 42:'koi_hmag', \n",
    "                                                            43:'koi_kmag', 44:'koi_fwm_stat_sig', 45:'koi_fwm_sra', \n",
    "                                                            46:'koi_fwm_sdec', 47:'koi_fwm_srao', 48:'koi_fwm_sdeco', \n",
    "                                                            49:'koi_fwm_prao', 50:'koi_fwm_pdeco', 51:'koi_dicco_mra', \n",
    "                                                            52:'koi_dicco_mdec', 53:'koi_dicco_msky', 54:'koi_dikco_mra', \n",
    "                                                            55:'koi_dikco_mdec', 56:'koi_dikco_msky'})\n",
    "print(kepler_knn_inputer)"
   ]
  },
  {
   "cell_type": "code",
   "execution_count": 66,
   "metadata": {},
   "outputs": [
    {
     "name": "stdout",
     "output_type": "stream",
     "text": [
      "      CANDIDATE  FALSE POSITIVE\n",
      "0             1               0\n",
      "1             1               0\n",
      "2             1               0\n",
      "3             0               1\n",
      "4             1               0\n",
      "...         ...             ...\n",
      "9559          0               1\n",
      "9560          1               0\n",
      "9561          0               1\n",
      "9562          1               0\n",
      "9563          0               1\n",
      "\n",
      "[9564 rows x 2 columns]\n"
     ]
    }
   ],
   "source": [
    "### One-Hot Encode Data Labels ###\n",
    "kepler_koi_data_labels = pd.get_dummies(kepler_koi_data_labels, columns = ['koi_pdisposition'], drop_first = False)\n",
    "print (kepler_koi_data_labels)"
   ]
  },
  {
   "cell_type": "code",
   "execution_count": 67,
   "metadata": {},
   "outputs": [],
   "source": [
    "from sklearn.model_selection import train_test_split\n",
    "\n",
    "### Split Data into Training, Testing and Validation Sets ###\n",
    "\n",
    "X_train_full, X_test, y_train_full, y_test = train_test_split(kepler_knn_inputer, kepler_koi_data_labels, train_size = 0.90, random_state = 42)\n",
    "X_train, X_valid, y_train, y_valid = train_test_split(X_train_full, y_train_full, train_size = 0.89, random_state = 42)"
   ]
  },
  {
   "cell_type": "code",
   "execution_count": 68,
   "metadata": {},
   "outputs": [],
   "source": [
    "import tensorflow as tf\n",
    "from tensorflow import keras"
   ]
  },
  {
   "cell_type": "code",
   "execution_count": 69,
   "metadata": {},
   "outputs": [],
   "source": [
    "np.random.seed(42)\n",
    "tf.random.set_seed(42)"
   ]
  },
  {
   "cell_type": "code",
   "execution_count": 70,
   "metadata": {},
   "outputs": [
    {
     "name": "stdout",
     "output_type": "stream",
     "text": [
      "Epoch 1/100\n",
      "240/240 [==============================] - 12s 49ms/step - loss: 0.2637 - accuracy: 0.4935 - val_loss: 0.2929 - val_accuracy: 0.4752\n",
      "Epoch 2/100\n",
      "240/240 [==============================] - 11s 45ms/step - loss: 0.2595 - accuracy: 0.4898 - val_loss: 0.2501 - val_accuracy: 0.5248\n",
      "Epoch 3/100\n",
      "240/240 [==============================] - 11s 44ms/step - loss: 0.2559 - accuracy: 0.4935 - val_loss: 0.2848 - val_accuracy: 0.4752\n",
      "Epoch 4/100\n",
      "240/240 [==============================] - 11s 44ms/step - loss: 0.2539 - accuracy: 0.4943 - val_loss: 0.2507 - val_accuracy: 0.5248\n",
      "Epoch 5/100\n",
      "240/240 [==============================] - 11s 44ms/step - loss: 0.2528 - accuracy: 0.5039 - val_loss: 0.2773 - val_accuracy: 0.4752\n",
      "Epoch 6/100\n",
      "240/240 [==============================] - 11s 45ms/step - loss: 0.2524 - accuracy: 0.5039 - val_loss: 0.2564 - val_accuracy: 0.4752\n",
      "Epoch 7/100\n",
      "240/240 [==============================] - 11s 44ms/step - loss: 0.2519 - accuracy: 0.4927 - val_loss: 0.2613 - val_accuracy: 0.4752\n",
      "Epoch 8/100\n",
      "240/240 [==============================] - 11s 44ms/step - loss: 0.2525 - accuracy: 0.5005 - val_loss: 0.2527 - val_accuracy: 0.5248\n",
      "Epoch 9/100\n",
      "240/240 [==============================] - 11s 44ms/step - loss: 0.2510 - accuracy: 0.5091 - val_loss: 0.2505 - val_accuracy: 0.5248\n",
      "Epoch 10/100\n",
      "240/240 [==============================] - 11s 45ms/step - loss: 0.2516 - accuracy: 0.5026 - val_loss: 0.2537 - val_accuracy: 0.4752\n",
      "Epoch 11/100\n",
      "240/240 [==============================] - 11s 44ms/step - loss: 0.2514 - accuracy: 0.4943 - val_loss: 0.2549 - val_accuracy: 0.4752\n",
      "Epoch 12/100\n",
      "240/240 [==============================] - 11s 44ms/step - loss: 0.2513 - accuracy: 0.5010 - val_loss: 0.2531 - val_accuracy: 0.4752\n"
     ]
    },
    {
     "data": {
      "text/plain": [
       "<keras.callbacks.History at 0x1950fe85910>"
      ]
     },
     "execution_count": 70,
     "metadata": {},
     "output_type": "execute_result"
    }
   ],
   "source": [
    "### Create and Run 1st Model. Start with approximately half as many neurons as Data Rows and then half the neurons of the following 3 layers ###\n",
    "\n",
    "model = keras.models.Sequential([keras.layers.Dense(4500, activation = 'sigmoid', input_shape = X_train.shape[1:]),\n",
    "                                keras.layers.Dense(2250, activation = 'sigmoid'),\n",
    "                                keras.layers.Dense(1125, activation = 'relu'),\n",
    "                                keras.layers.Dense(665, activation = 'relu'),\n",
    "                                keras.layers.Dense(2, activation = 'softmax')\n",
    "                                ])\n",
    "\n",
    "model.compile(loss = \"mean_squared_error\", optimizer=keras.optimizers.SGD(learning_rate=0.01), metrics = ['accuracy'])\n",
    "\n",
    "model.fit(X_train, y_train, epochs = 100, validation_data = (X_valid, y_valid), callbacks = [keras.callbacks.EarlyStopping(patience = 10)])"
   ]
  },
  {
   "cell_type": "code",
   "execution_count": 71,
   "metadata": {},
   "outputs": [
    {
     "name": "stdout",
     "output_type": "stream",
     "text": [
      "Epoch 1/50\n",
      "240/240 [==============================] - 11s 45ms/step - loss: 0.5055 - accuracy: 0.4945 - val_loss: 0.5248 - val_accuracy: 0.4752\n",
      "Epoch 2/50\n",
      "240/240 [==============================] - 11s 44ms/step - loss: 0.5055 - accuracy: 0.4945 - val_loss: 0.5248 - val_accuracy: 0.4752\n",
      "Epoch 3/50\n",
      "240/240 [==============================] - 11s 44ms/step - loss: 0.5055 - accuracy: 0.4945 - val_loss: 0.5248 - val_accuracy: 0.4752\n",
      "Epoch 4/50\n",
      "240/240 [==============================] - 11s 44ms/step - loss: 0.5055 - accuracy: 0.4945 - val_loss: 0.5248 - val_accuracy: 0.4752\n",
      "Epoch 5/50\n",
      "240/240 [==============================] - 11s 44ms/step - loss: 0.5055 - accuracy: 0.4945 - val_loss: 0.5248 - val_accuracy: 0.4752\n",
      "Epoch 6/50\n",
      "240/240 [==============================] - 11s 45ms/step - loss: 0.5055 - accuracy: 0.4945 - val_loss: 0.5248 - val_accuracy: 0.4752\n",
      "Epoch 7/50\n",
      "240/240 [==============================] - 11s 44ms/step - loss: 0.5055 - accuracy: 0.4945 - val_loss: 0.5248 - val_accuracy: 0.4752\n",
      "Epoch 8/50\n",
      "240/240 [==============================] - 11s 44ms/step - loss: 0.5055 - accuracy: 0.4945 - val_loss: 0.5248 - val_accuracy: 0.4752\n",
      "Epoch 9/50\n",
      "240/240 [==============================] - 11s 45ms/step - loss: 0.5055 - accuracy: 0.4945 - val_loss: 0.5248 - val_accuracy: 0.4752\n",
      "Epoch 10/50\n",
      "240/240 [==============================] - 11s 44ms/step - loss: 0.5055 - accuracy: 0.4945 - val_loss: 0.5248 - val_accuracy: 0.4752\n",
      "Epoch 11/50\n",
      "240/240 [==============================] - 11s 45ms/step - loss: 0.5055 - accuracy: 0.4945 - val_loss: 0.5248 - val_accuracy: 0.4752\n"
     ]
    },
    {
     "data": {
      "text/plain": [
       "<keras.callbacks.History at 0x19512edc760>"
      ]
     },
     "execution_count": 71,
     "metadata": {},
     "output_type": "execute_result"
    }
   ],
   "source": [
    "### Create Model 2 by changing the Activation ###\n",
    "model2 = keras.models.Sequential([keras.layers.Dense(4500, activation = 'relu', input_shape = X_train.shape[1:]),\n",
    "                                keras.layers.Dense(2250, activation = 'relu'),\n",
    "                                keras.layers.Dense(1125, activation = 'relu'),\n",
    "                                keras.layers.Dense(665, activation = 'relu'),\n",
    "                                keras.layers.Dense(2, activation = 'softmax')\n",
    "                                ])\n",
    "\n",
    "model2.compile(loss = \"mean_squared_error\", optimizer=keras.optimizers.SGD(learning_rate=0.01), metrics = ['accuracy'])\n",
    "\n",
    "model2.fit(X_train, y_train, epochs = 50, validation_data = (X_valid, y_valid), callbacks = [keras.callbacks.EarlyStopping(patience = 10)]) #Not the model to use"
   ]
  },
  {
   "cell_type": "code",
   "execution_count": 72,
   "metadata": {},
   "outputs": [
    {
     "name": "stdout",
     "output_type": "stream",
     "text": [
      "Epoch 1/50\n",
      "240/240 [==============================] - 11s 45ms/step - loss: 0.2530 - accuracy: 0.5010 - val_loss: 0.2567 - val_accuracy: 0.4752\n",
      "Epoch 2/50\n",
      "240/240 [==============================] - 11s 45ms/step - loss: 0.2538 - accuracy: 0.4927 - val_loss: 0.2495 - val_accuracy: 0.5248\n",
      "Epoch 3/50\n",
      "240/240 [==============================] - 11s 45ms/step - loss: 0.2537 - accuracy: 0.4937 - val_loss: 0.2714 - val_accuracy: 0.4752\n",
      "Epoch 4/50\n",
      "240/240 [==============================] - 11s 45ms/step - loss: 0.2531 - accuracy: 0.4937 - val_loss: 0.2504 - val_accuracy: 0.5248\n",
      "Epoch 5/50\n",
      "240/240 [==============================] - 11s 45ms/step - loss: 0.2527 - accuracy: 0.5034 - val_loss: 0.2786 - val_accuracy: 0.4752\n",
      "Epoch 6/50\n",
      "240/240 [==============================] - 11s 45ms/step - loss: 0.2527 - accuracy: 0.5029 - val_loss: 0.2577 - val_accuracy: 0.4752\n",
      "Epoch 7/50\n",
      "240/240 [==============================] - 11s 45ms/step - loss: 0.2526 - accuracy: 0.4930 - val_loss: 0.2638 - val_accuracy: 0.4752\n",
      "Epoch 8/50\n",
      "240/240 [==============================] - 11s 46ms/step - loss: 0.2536 - accuracy: 0.5005 - val_loss: 0.2571 - val_accuracy: 0.5248\n",
      "Epoch 9/50\n",
      "240/240 [==============================] - 11s 44ms/step - loss: 0.2517 - accuracy: 0.5091 - val_loss: 0.2517 - val_accuracy: 0.5248\n",
      "Epoch 10/50\n",
      "240/240 [==============================] - 11s 45ms/step - loss: 0.2528 - accuracy: 0.5005 - val_loss: 0.2596 - val_accuracy: 0.4752\n",
      "Epoch 11/50\n",
      "240/240 [==============================] - 11s 45ms/step - loss: 0.2529 - accuracy: 0.4966 - val_loss: 0.2633 - val_accuracy: 0.4752\n",
      "Epoch 12/50\n",
      "240/240 [==============================] - 11s 47ms/step - loss: 0.2531 - accuracy: 0.5005 - val_loss: 0.2576 - val_accuracy: 0.4752\n"
     ]
    },
    {
     "data": {
      "text/plain": [
       "<keras.callbacks.History at 0x195151d1e80>"
      ]
     },
     "execution_count": 72,
     "metadata": {},
     "output_type": "execute_result"
    }
   ],
   "source": [
    "### Create 3rd model ###\n",
    "\n",
    "model3 = keras.models.Sequential([keras.layers.Dense(4500, activation = 'sigmoid', input_shape = X_train.shape[1:]),\n",
    "                                keras.layers.Dense(2250, activation = 'sigmoid'),\n",
    "                                keras.layers.Dense(1125, activation = 'sigmoid'),\n",
    "                                keras.layers.Dense(665, activation = 'sigmoid'),\n",
    "                                keras.layers.Dense(2, activation = 'softmax')\n",
    "                                ])\n",
    "\n",
    "model3.compile(loss = \"mean_squared_error\", optimizer=keras.optimizers.SGD(learning_rate=0.01), metrics = ['accuracy'])\n",
    "\n",
    "model3.fit(X_train, y_train, epochs = 50, validation_data = (X_valid, y_valid), callbacks = [keras.callbacks.EarlyStopping(patience = 10)])"
   ]
  },
  {
   "cell_type": "code",
   "execution_count": 73,
   "metadata": {},
   "outputs": [
    {
     "name": "stdout",
     "output_type": "stream",
     "text": [
      "      koi_eccen  koi_teq  koi_impact  koi_incl  koi_insol  koi_count  \\\n",
      "0           0.0    793.0       0.146     89.66      93.59        2.0   \n",
      "1           0.0    443.0       0.586     89.57       9.11        2.0   \n",
      "2           0.0    638.0       0.969     88.96      39.30        1.0   \n",
      "3           0.0   1395.0       1.276     67.09     891.96        1.0   \n",
      "4           0.0   1406.0       0.701     85.41     926.16        1.0   \n",
      "...         ...      ...         ...       ...        ...        ...   \n",
      "9559        0.0   2088.0       1.252     20.78    4500.53        1.0   \n",
      "9560        0.0   1608.0       0.043     89.42    1585.81        1.0   \n",
      "9561        0.0   2218.0       0.147     88.60    5713.41        1.0   \n",
      "9562        0.0    557.0       0.214     89.98      22.68        1.0   \n",
      "9563        0.0   1266.0       0.134     89.36     607.42        1.0   \n",
      "\n",
      "      koi_period  koi_steff  koi_smass  koi_smet  koi_slogg  \n",
      "0       9.488036     5455.0      0.919      0.14      4.467  \n",
      "1      54.418383     5455.0      0.919      0.14      4.467  \n",
      "2      19.899140     5853.0      0.961     -0.18      4.544  \n",
      "3       1.736952     5805.0      0.836     -0.52      4.564  \n",
      "4       2.525592     6031.0      1.095      0.07      4.438  \n",
      "...          ...        ...        ...       ...        ...  \n",
      "9559    0.527699     5638.0      1.005      0.14      4.529  \n",
      "9560    1.739849     6119.0      1.075     -0.04      4.444  \n",
      "9561    0.681402     6173.0      1.104     -0.04      4.447  \n",
      "9562  333.486169     4989.0      2.190      0.07      2.992  \n",
      "9563    4.856035     6469.0      1.260      0.07      4.385  \n",
      "\n",
      "[9564 rows x 11 columns]\n"
     ]
    }
   ],
   "source": [
    "### Create a Reduced Dataset from Data Types that are equal to K2 Data Types ###\n",
    "\n",
    "kepler_knn_inputer_reduced = kepler_knn_inputer[['koi_eccen',\n",
    "                                                'koi_teq',\n",
    "                                                'koi_impact',\n",
    "                                                'koi_incl',\n",
    "                                                'koi_insol',\n",
    "                                                'koi_count',\n",
    "                                                'koi_period',\n",
    "                                                'koi_steff',\n",
    "                                                'koi_smass',\n",
    "                                                'koi_smet',\n",
    "                                                'koi_slogg']]\n",
    "\n",
    "print(kepler_knn_inputer_reduced)"
   ]
  },
  {
   "cell_type": "code",
   "execution_count": 74,
   "metadata": {},
   "outputs": [],
   "source": [
    "X_train_full2, X_test2, y_train_full2, y_test2 = train_test_split(kepler_knn_inputer_reduced, kepler_koi_data_labels, train_size = 0.75, random_state = 42)\n",
    "X_train2, X_valid2, y_train2, y_valid2 = train_test_split(X_train_full2, y_train_full2, train_size = 0.80, random_state = 42)"
   ]
  },
  {
   "cell_type": "code",
   "execution_count": 75,
   "metadata": {},
   "outputs": [
    {
     "name": "stdout",
     "output_type": "stream",
     "text": [
      "Epoch 1/50\n",
      "180/180 [==============================] - 9s 46ms/step - loss: 0.2295 - accuracy: 0.6098 - val_loss: 0.3143 - val_accuracy: 0.5624\n",
      "Epoch 2/50\n",
      "180/180 [==============================] - 8s 46ms/step - loss: 0.2223 - accuracy: 0.6337 - val_loss: 0.2161 - val_accuracy: 0.6655\n",
      "Epoch 3/50\n",
      "180/180 [==============================] - 8s 46ms/step - loss: 0.2189 - accuracy: 0.6413 - val_loss: 0.2174 - val_accuracy: 0.6578\n",
      "Epoch 4/50\n",
      "180/180 [==============================] - 8s 45ms/step - loss: 0.2174 - accuracy: 0.6528 - val_loss: 0.2220 - val_accuracy: 0.6502\n",
      "Epoch 5/50\n",
      "180/180 [==============================] - 8s 45ms/step - loss: 0.2190 - accuracy: 0.6422 - val_loss: 0.2300 - val_accuracy: 0.5101\n",
      "Epoch 6/50\n",
      "180/180 [==============================] - 8s 46ms/step - loss: 0.2177 - accuracy: 0.6565 - val_loss: 0.2232 - val_accuracy: 0.6439\n",
      "Epoch 7/50\n",
      "180/180 [==============================] - 8s 45ms/step - loss: 0.2170 - accuracy: 0.6495 - val_loss: 0.2196 - val_accuracy: 0.6627\n",
      "Epoch 8/50\n",
      "180/180 [==============================] - 8s 46ms/step - loss: 0.2183 - accuracy: 0.6474 - val_loss: 0.2427 - val_accuracy: 0.5101\n",
      "Epoch 9/50\n",
      "180/180 [==============================] - 8s 45ms/step - loss: 0.2175 - accuracy: 0.6483 - val_loss: 0.2313 - val_accuracy: 0.5101\n",
      "Epoch 10/50\n",
      "180/180 [==============================] - 8s 45ms/step - loss: 0.2167 - accuracy: 0.6527 - val_loss: 0.2208 - val_accuracy: 0.6641\n",
      "Epoch 11/50\n",
      "180/180 [==============================] - 8s 46ms/step - loss: 0.2181 - accuracy: 0.6513 - val_loss: 0.2413 - val_accuracy: 0.5101\n",
      "Epoch 12/50\n",
      "180/180 [==============================] - 8s 45ms/step - loss: 0.2199 - accuracy: 0.6441 - val_loss: 0.2169 - val_accuracy: 0.6662\n"
     ]
    },
    {
     "data": {
      "text/plain": [
       "<keras.callbacks.History at 0x195151bc850>"
      ]
     },
     "execution_count": 75,
     "metadata": {},
     "output_type": "execute_result"
    }
   ],
   "source": [
    "### Repeat of Model 1 with the Reduced Dataset ###\n",
    "\n",
    "model4 = keras.models.Sequential([keras.layers.Dense(4500, activation = 'sigmoid'),\n",
    "                                keras.layers.Dense(2250, activation = 'sigmoid'),\n",
    "                                keras.layers.Dense(1125, activation = 'relu'),\n",
    "                                keras.layers.Dense(665, activation = 'relu'),\n",
    "                                keras.layers.Dense(2, activation = 'softmax')\n",
    "                                ])\n",
    "\n",
    "model4.compile(loss = \"mean_squared_error\", optimizer=keras.optimizers.SGD(learning_rate=0.01), metrics = ['accuracy'])\n",
    "\n",
    "model4.fit(X_train2, y_train2, epochs = 50, validation_data = (X_valid2, y_valid2), callbacks = [keras.callbacks.EarlyStopping(patience = 10)])"
   ]
  },
  {
   "cell_type": "code",
   "execution_count": 76,
   "metadata": {},
   "outputs": [
    {
     "name": "stdout",
     "output_type": "stream",
     "text": [
      "Epoch 1/50\n",
      "180/180 [==============================] - 9s 46ms/step - loss: 0.4904 - accuracy: 0.5096 - val_loss: 0.4906 - val_accuracy: 0.5094\n",
      "Epoch 2/50\n",
      "180/180 [==============================] - 8s 45ms/step - loss: 0.4904 - accuracy: 0.5096 - val_loss: 0.4906 - val_accuracy: 0.5094\n",
      "Epoch 3/50\n",
      "180/180 [==============================] - 8s 44ms/step - loss: 0.4904 - accuracy: 0.5096 - val_loss: 0.4906 - val_accuracy: 0.5094\n",
      "Epoch 4/50\n",
      "180/180 [==============================] - 8s 44ms/step - loss: 0.4904 - accuracy: 0.5096 - val_loss: 0.4906 - val_accuracy: 0.5094\n",
      "Epoch 5/50\n",
      "180/180 [==============================] - 8s 44ms/step - loss: 0.4904 - accuracy: 0.5096 - val_loss: 0.4906 - val_accuracy: 0.5094\n",
      "Epoch 6/50\n",
      "180/180 [==============================] - 8s 44ms/step - loss: 0.4904 - accuracy: 0.5096 - val_loss: 0.4906 - val_accuracy: 0.5094\n",
      "Epoch 7/50\n",
      "180/180 [==============================] - 8s 44ms/step - loss: 0.4904 - accuracy: 0.5096 - val_loss: 0.4906 - val_accuracy: 0.5094\n",
      "Epoch 8/50\n",
      "180/180 [==============================] - 8s 44ms/step - loss: 0.4904 - accuracy: 0.5096 - val_loss: 0.4906 - val_accuracy: 0.5094\n",
      "Epoch 9/50\n",
      "180/180 [==============================] - 8s 44ms/step - loss: 0.4904 - accuracy: 0.5096 - val_loss: 0.4906 - val_accuracy: 0.5094\n",
      "Epoch 10/50\n",
      "180/180 [==============================] - 8s 44ms/step - loss: 0.4904 - accuracy: 0.5096 - val_loss: 0.4906 - val_accuracy: 0.5094\n",
      "Epoch 11/50\n",
      "180/180 [==============================] - 8s 44ms/step - loss: 0.4904 - accuracy: 0.5096 - val_loss: 0.4906 - val_accuracy: 0.5094\n"
     ]
    },
    {
     "data": {
      "text/plain": [
       "<keras.callbacks.History at 0x195240e4f10>"
      ]
     },
     "execution_count": 76,
     "metadata": {},
     "output_type": "execute_result"
    }
   ],
   "source": [
    "### Repeat of Model 2 with the Reduced Dataset ###\n",
    "\n",
    "model5 = keras.models.Sequential([keras.layers.Dense(4500, activation = 'relu'),\n",
    "                                keras.layers.Dense(2250, activation = 'relu'),\n",
    "                                keras.layers.Dense(1125, activation = 'relu'),\n",
    "                                keras.layers.Dense(665, activation = 'relu'),\n",
    "                                keras.layers.Dense(2, activation = 'softmax')\n",
    "                                ])\n",
    "\n",
    "model5.compile(loss = \"mean_squared_error\", optimizer=keras.optimizers.SGD(learning_rate=0.01), metrics = ['accuracy'])\n",
    "\n",
    "model5.fit(X_train2, y_train2, epochs = 50, validation_data = (X_valid2, y_valid2), callbacks = [keras.callbacks.EarlyStopping(patience = 10)])"
   ]
  },
  {
   "cell_type": "code",
   "execution_count": 77,
   "metadata": {},
   "outputs": [
    {
     "name": "stdout",
     "output_type": "stream",
     "text": [
      "Epoch 1/50\n",
      "180/180 [==============================] - 9s 46ms/step - loss: 0.2511 - accuracy: 0.5354 - val_loss: 0.2559 - val_accuracy: 0.4906\n",
      "Epoch 2/50\n",
      "180/180 [==============================] - 8s 45ms/step - loss: 0.2426 - accuracy: 0.5605 - val_loss: 0.2390 - val_accuracy: 0.5094\n",
      "Epoch 3/50\n",
      "180/180 [==============================] - 8s 45ms/step - loss: 0.2367 - accuracy: 0.6128 - val_loss: 0.2337 - val_accuracy: 0.6432\n",
      "Epoch 4/50\n",
      "180/180 [==============================] - 8s 45ms/step - loss: 0.2318 - accuracy: 0.6298 - val_loss: 0.2407 - val_accuracy: 0.5094\n",
      "Epoch 5/50\n",
      "180/180 [==============================] - 8s 45ms/step - loss: 0.2285 - accuracy: 0.6250 - val_loss: 0.2418 - val_accuracy: 0.5094\n",
      "Epoch 6/50\n",
      "180/180 [==============================] - 8s 45ms/step - loss: 0.2244 - accuracy: 0.6467 - val_loss: 0.2250 - val_accuracy: 0.6537\n",
      "Epoch 7/50\n",
      "180/180 [==============================] - 8s 45ms/step - loss: 0.2205 - accuracy: 0.6570 - val_loss: 0.2241 - val_accuracy: 0.6606\n",
      "Epoch 8/50\n",
      "180/180 [==============================] - 8s 45ms/step - loss: 0.2186 - accuracy: 0.6642 - val_loss: 0.2335 - val_accuracy: 0.5094\n",
      "Epoch 9/50\n",
      "180/180 [==============================] - 8s 45ms/step - loss: 0.2171 - accuracy: 0.6600 - val_loss: 0.2248 - val_accuracy: 0.5589\n",
      "Epoch 10/50\n",
      "180/180 [==============================] - 8s 45ms/step - loss: 0.2156 - accuracy: 0.6621 - val_loss: 0.2179 - val_accuracy: 0.6829\n",
      "Epoch 11/50\n",
      "180/180 [==============================] - 8s 45ms/step - loss: 0.2153 - accuracy: 0.6603 - val_loss: 0.2272 - val_accuracy: 0.5094\n",
      "Epoch 12/50\n",
      "180/180 [==============================] - 8s 45ms/step - loss: 0.2158 - accuracy: 0.6623 - val_loss: 0.2156 - val_accuracy: 0.6683\n",
      "Epoch 13/50\n",
      "180/180 [==============================] - 8s 45ms/step - loss: 0.2143 - accuracy: 0.6631 - val_loss: 0.2132 - val_accuracy: 0.6683\n",
      "Epoch 14/50\n",
      "180/180 [==============================] - 8s 45ms/step - loss: 0.2138 - accuracy: 0.6614 - val_loss: 0.2189 - val_accuracy: 0.6523\n",
      "Epoch 15/50\n",
      "180/180 [==============================] - 8s 45ms/step - loss: 0.2136 - accuracy: 0.6602 - val_loss: 0.2171 - val_accuracy: 0.6857\n",
      "Epoch 16/50\n",
      "180/180 [==============================] - 8s 45ms/step - loss: 0.2141 - accuracy: 0.6621 - val_loss: 0.2259 - val_accuracy: 0.6453\n",
      "Epoch 17/50\n",
      "180/180 [==============================] - 8s 45ms/step - loss: 0.2135 - accuracy: 0.6607 - val_loss: 0.2156 - val_accuracy: 0.6564\n",
      "Epoch 18/50\n",
      "180/180 [==============================] - 8s 45ms/step - loss: 0.2135 - accuracy: 0.6628 - val_loss: 0.2132 - val_accuracy: 0.6613\n",
      "Epoch 19/50\n",
      "180/180 [==============================] - 8s 45ms/step - loss: 0.2130 - accuracy: 0.6588 - val_loss: 0.2424 - val_accuracy: 0.6390\n",
      "Epoch 20/50\n",
      "180/180 [==============================] - 8s 45ms/step - loss: 0.2136 - accuracy: 0.6617 - val_loss: 0.2126 - val_accuracy: 0.6648\n",
      "Epoch 21/50\n",
      "180/180 [==============================] - 8s 45ms/step - loss: 0.2136 - accuracy: 0.6631 - val_loss: 0.2207 - val_accuracy: 0.6523\n",
      "Epoch 22/50\n",
      "180/180 [==============================] - 8s 45ms/step - loss: 0.2141 - accuracy: 0.6619 - val_loss: 0.2297 - val_accuracy: 0.5094\n",
      "Epoch 23/50\n",
      "180/180 [==============================] - 8s 45ms/step - loss: 0.2137 - accuracy: 0.6577 - val_loss: 0.2232 - val_accuracy: 0.6383\n",
      "Epoch 24/50\n",
      "180/180 [==============================] - 8s 45ms/step - loss: 0.2140 - accuracy: 0.6595 - val_loss: 0.2128 - val_accuracy: 0.6634\n",
      "Epoch 25/50\n",
      "180/180 [==============================] - 8s 45ms/step - loss: 0.2133 - accuracy: 0.6600 - val_loss: 0.2224 - val_accuracy: 0.6557\n",
      "Epoch 26/50\n",
      "180/180 [==============================] - 8s 45ms/step - loss: 0.2127 - accuracy: 0.6631 - val_loss: 0.2138 - val_accuracy: 0.6557\n",
      "Epoch 27/50\n",
      "180/180 [==============================] - 8s 45ms/step - loss: 0.2148 - accuracy: 0.6560 - val_loss: 0.2145 - val_accuracy: 0.6627\n",
      "Epoch 28/50\n",
      "180/180 [==============================] - 8s 45ms/step - loss: 0.2134 - accuracy: 0.6617 - val_loss: 0.2219 - val_accuracy: 0.6564\n",
      "Epoch 29/50\n",
      "180/180 [==============================] - 8s 45ms/step - loss: 0.2140 - accuracy: 0.6605 - val_loss: 0.2191 - val_accuracy: 0.6627\n",
      "Epoch 30/50\n",
      "180/180 [==============================] - 8s 45ms/step - loss: 0.2149 - accuracy: 0.6542 - val_loss: 0.2132 - val_accuracy: 0.6641\n"
     ]
    },
    {
     "data": {
      "text/plain": [
       "<keras.callbacks.History at 0x1952221f190>"
      ]
     },
     "execution_count": 77,
     "metadata": {},
     "output_type": "execute_result"
    }
   ],
   "source": [
    "### Repeat of Model 3 with the Reduced Dataset ###\n",
    "\n",
    "model6 = keras.models.Sequential([keras.layers.Dense(4500, activation = 'sigmoid'),\n",
    "                                keras.layers.Dense(2250, activation = 'sigmoid'),\n",
    "                                keras.layers.Dense(1125, activation = 'sigmoid'),\n",
    "                                keras.layers.Dense(665, activation = 'sigmoid'),\n",
    "                                keras.layers.Dense(2, activation = 'softmax')\n",
    "                                ])\n",
    "\n",
    "model6.compile(loss = \"mean_squared_error\", optimizer=keras.optimizers.SGD(learning_rate=0.01), metrics = ['accuracy'])\n",
    "\n",
    "model6.fit(X_train2, y_train2, epochs = 50, validation_data = (X_valid2, y_valid2), callbacks = [keras.callbacks.EarlyStopping(patience = 10)])"
   ]
  },
  {
   "cell_type": "code",
   "execution_count": 78,
   "metadata": {},
   "outputs": [
    {
     "name": "stdout",
     "output_type": "stream",
     "text": [
      "30/30 [==============================] - 0s 10ms/step - loss: 0.2513 - accuracy: 0.5005\n"
     ]
    },
    {
     "data": {
      "text/plain": [
       "[0.25129643082618713, 0.5005224943161011]"
      ]
     },
     "execution_count": 78,
     "metadata": {},
     "output_type": "execute_result"
    }
   ],
   "source": [
    "model.evaluate(X_test, y_test)"
   ]
  },
  {
   "cell_type": "code",
   "execution_count": 79,
   "metadata": {},
   "outputs": [
    {
     "name": "stdout",
     "output_type": "stream",
     "text": [
      "30/30 [==============================] - 0s 8ms/step - loss: 0.4995 - accuracy: 0.5005\n"
     ]
    },
    {
     "data": {
      "text/plain": [
       "[0.4994775354862213, 0.5005224943161011]"
      ]
     },
     "execution_count": 79,
     "metadata": {},
     "output_type": "execute_result"
    }
   ],
   "source": [
    "model2.evaluate(X_test, y_test)"
   ]
  },
  {
   "cell_type": "code",
   "execution_count": 80,
   "metadata": {},
   "outputs": [
    {
     "name": "stdout",
     "output_type": "stream",
     "text": [
      "30/30 [==============================] - 0s 9ms/step - loss: 0.2543 - accuracy: 0.5005\n"
     ]
    },
    {
     "data": {
      "text/plain": [
       "[0.25430020689964294, 0.5005224943161011]"
      ]
     },
     "execution_count": 80,
     "metadata": {},
     "output_type": "execute_result"
    }
   ],
   "source": [
    "model3.evaluate(X_test, y_test)"
   ]
  },
  {
   "cell_type": "code",
   "execution_count": 81,
   "metadata": {},
   "outputs": [
    {
     "name": "stdout",
     "output_type": "stream",
     "text": [
      "75/75 [==============================] - 1s 8ms/step - loss: 0.2239 - accuracy: 0.6541\n"
     ]
    },
    {
     "data": {
      "text/plain": [
       "[0.22386498749256134, 0.654119610786438]"
      ]
     },
     "execution_count": 81,
     "metadata": {},
     "output_type": "execute_result"
    }
   ],
   "source": [
    "model4.evaluate(X_test2, y_test2)"
   ]
  },
  {
   "cell_type": "code",
   "execution_count": 82,
   "metadata": {},
   "outputs": [
    {
     "name": "stdout",
     "output_type": "stream",
     "text": [
      "75/75 [==============================] - 1s 8ms/step - loss: 0.5015 - accuracy: 0.4985\n"
     ]
    },
    {
     "data": {
      "text/plain": [
       "[0.5014638304710388, 0.4985361695289612]"
      ]
     },
     "execution_count": 82,
     "metadata": {},
     "output_type": "execute_result"
    }
   ],
   "source": [
    "model5.evaluate(X_test2, y_test2)"
   ]
  },
  {
   "cell_type": "code",
   "execution_count": 83,
   "metadata": {},
   "outputs": [
    {
     "name": "stdout",
     "output_type": "stream",
     "text": [
      "75/75 [==============================] - 1s 8ms/step - loss: 0.2185 - accuracy: 0.6545\n"
     ]
    },
    {
     "data": {
      "text/plain": [
       "[0.21852503716945648, 0.6545378565788269]"
      ]
     },
     "execution_count": 83,
     "metadata": {},
     "output_type": "execute_result"
    }
   ],
   "source": [
    "model6.evaluate(X_test2, y_test2)"
   ]
  },
  {
   "cell_type": "code",
   "execution_count": 84,
   "metadata": {},
   "outputs": [
    {
     "name": "stdout",
     "output_type": "stream",
     "text": [
      "      pl_orbeccen  pl_eqt  pl_imppar  pl_orbincl  pl_insol  sy_pnum  \\\n",
      "0            0.00     NaN        NaN      89.550       NaN        1   \n",
      "1            0.00   546.0        NaN      89.550       NaN        1   \n",
      "2             NaN     NaN        NaN      89.526       NaN        1   \n",
      "3             NaN     NaN        NaN      87.444       NaN        0   \n",
      "4             NaN  1054.0      0.420         NaN       NaN        0   \n",
      "...           ...     ...        ...         ...       ...      ...   \n",
      "3512         0.00  1452.0      0.047      89.690       NaN        1   \n",
      "3513          NaN     NaN        NaN         NaN       NaN        1   \n",
      "3514          NaN     NaN        NaN         NaN       NaN        1   \n",
      "3515         0.41   790.0      0.650         NaN       NaN        1   \n",
      "3516          NaN   805.0      0.387         NaN      69.6        1   \n",
      "\n",
      "      pl_orbper  st_teff  st_mass  st_met  st_logg  \n",
      "0     41.685500  5766.00     1.67  -0.150     4.50  \n",
      "1     41.685500  5766.00     0.96  -0.150     4.50  \n",
      "2     41.688644  5703.00     0.96  -0.060     4.38  \n",
      "3      2.302368  4720.00      NaN  -0.060     4.50  \n",
      "4      2.301830  4616.52     0.73  -0.030     4.54  \n",
      "...         ...      ...      ...     ...      ...  \n",
      "3512   2.655678  6112.00     1.09     NaN      NaN  \n",
      "3513   2.656627  5634.18      NaN   0.118      NaN  \n",
      "3514   2.655682  5426.00      NaN     NaN     4.50  \n",
      "3515   6.001270  4716.00     0.69  -0.470     4.62  \n",
      "3516   6.001180  4716.00     0.69  -0.470     4.62  \n",
      "\n",
      "[3517 rows x 11 columns]\n"
     ]
    }
   ],
   "source": [
    "### Create the K2 Dataset similar to the Reduced Kepler Dataset ###\n",
    "\n",
    "k2_prep_data = k2_data[['pl_orbeccen',\n",
    "                        'pl_eqt',\n",
    "                        'pl_imppar',\n",
    "                        'pl_orbincl',\n",
    "                        'pl_insol',\n",
    "                        'sy_pnum',\n",
    "                        'pl_orbper',\n",
    "                        'st_teff',\n",
    "                        'st_mass',\n",
    "                        'st_met',\n",
    "                        'st_logg']]\n",
    "\n",
    "print(k2_prep_data)"
   ]
  },
  {
   "cell_type": "code",
   "execution_count": 85,
   "metadata": {},
   "outputs": [
    {
     "name": "stdout",
     "output_type": "stream",
     "text": [
      "59.0\n"
     ]
    }
   ],
   "source": [
    "### Calculate an appropriate n_neighbors value for KNN of K2 Dataset ###\n",
    "\n",
    "k2_n_neighbors = round(sqrt(3517),0)\n",
    "print(k2_n_neighbors)"
   ]
  },
  {
   "cell_type": "code",
   "execution_count": 86,
   "metadata": {},
   "outputs": [
    {
     "name": "stdout",
     "output_type": "stream",
     "text": [
      "[[ 0.00000000e+00  9.03355932e+02  4.78559322e-01 ...  1.67000000e+00\n",
      "  -1.50000000e-01  4.50000000e+00]\n",
      " [ 0.00000000e+00  5.46000000e+02  5.00288136e-01 ...  9.60000000e-01\n",
      "  -1.50000000e-01  4.50000000e+00]\n",
      " [ 8.40313559e-02  8.66694915e+02  4.78203390e-01 ...  9.60000000e-01\n",
      "  -6.00000000e-02  4.38000000e+00]\n",
      " ...\n",
      " [ 1.23882203e-01  9.47457627e+02  4.99559322e-01 ...  7.65084746e-01\n",
      "  -8.76271186e-03  4.50000000e+00]\n",
      " [ 4.10000000e-01  7.90000000e+02  6.50000000e-01 ...  6.90000000e-01\n",
      "  -4.70000000e-01  4.62000000e+00]\n",
      " [ 1.16817797e-01  8.05000000e+02  3.87000000e-01 ...  6.90000000e-01\n",
      "  -4.70000000e-01  4.62000000e+00]]\n"
     ]
    }
   ],
   "source": [
    "k2neighborNumber = 59\n",
    "\n",
    "knn_inputer = KNNImputer(n_neighbors=k2neighborNumber)\n",
    "\n",
    "k2_knn_inputer = knn_inputer.fit_transform(k2_prep_data)\n",
    "\n",
    "print(k2_knn_inputer)"
   ]
  },
  {
   "cell_type": "code",
   "execution_count": 87,
   "metadata": {},
   "outputs": [
    {
     "name": "stdout",
     "output_type": "stream",
     "text": [
      "      pl_orbeccen       pl_eqt  pl_imppar  pl_orbincl    pl_insol  sy_pnum  \\\n",
      "0        0.000000   903.355932   0.478559   89.550000  438.145254      1.0   \n",
      "1        0.000000   546.000000   0.500288   89.550000  316.306780      1.0   \n",
      "2        0.084031   866.694915   0.478203   89.526000  342.801186      1.0   \n",
      "3        0.081611   823.440678   0.608966   87.444000  136.744746      0.0   \n",
      "4        0.106272  1054.000000   0.420000   86.697153  154.878983      0.0   \n",
      "...           ...          ...        ...         ...         ...      ...   \n",
      "3512     0.000000  1452.000000   0.047000   89.690000  517.530508      1.0   \n",
      "3513     0.097709   913.067797   0.520203   88.087169  284.330000      1.0   \n",
      "3514     0.123882   947.457627   0.499559   88.163729  253.031356      1.0   \n",
      "3515     0.410000   790.000000   0.650000   86.963898  115.297797      1.0   \n",
      "3516     0.116818   805.000000   0.387000   86.910576   69.600000      1.0   \n",
      "\n",
      "      pl_orbper  st_teff   st_mass    st_met   st_logg  \n",
      "0     41.685500  5766.00  1.670000 -0.150000  4.500000  \n",
      "1     41.685500  5766.00  0.960000 -0.150000  4.500000  \n",
      "2     41.688644  5703.00  0.960000 -0.060000  4.380000  \n",
      "3      2.302368  4720.00  0.696441 -0.060000  4.500000  \n",
      "4      2.301830  4616.52  0.730000 -0.030000  4.540000  \n",
      "...         ...      ...       ...       ...       ...  \n",
      "3512   2.655678  6112.00  1.090000 -0.055186  4.200678  \n",
      "3513   2.656627  5634.18  0.788644  0.118000  4.460169  \n",
      "3514   2.655682  5426.00  0.765085 -0.008763  4.500000  \n",
      "3515   6.001270  4716.00  0.690000 -0.470000  4.620000  \n",
      "3516   6.001180  4716.00  0.690000 -0.470000  4.620000  \n",
      "\n",
      "[3517 rows x 11 columns]\n"
     ]
    }
   ],
   "source": [
    "### Create K2 Dataset with no NaN values from KNN Inputer Algorithm ###\n",
    "\n",
    "k2_knn_inputer = pd.DataFrame(k2_knn_inputer, columns = ['pl_orbeccen',\n",
    "                                                        'pl_eqt',\n",
    "                                                        'pl_imppar',\n",
    "                                                        'pl_orbincl',\n",
    "                                                        'pl_insol',\n",
    "                                                        'sy_pnum',\n",
    "                                                        'pl_orbper',\n",
    "                                                        'st_teff',\n",
    "                                                        'st_mass',\n",
    "                                                        'st_met',\n",
    "                                                        'st_logg'])\n",
    "\n",
    "print(k2_knn_inputer)"
   ]
  },
  {
   "cell_type": "code",
   "execution_count": 88,
   "metadata": {},
   "outputs": [
    {
     "name": "stdout",
     "output_type": "stream",
     "text": [
      "      sy_pnum  pl_orbper  pl_orbeccen    pl_insol       pl_eqt  pl_orbincl  \\\n",
      "0         1.0  41.685500     0.000000  438.145254   903.355932   89.550000   \n",
      "1         1.0  41.685500     0.000000  316.306780   546.000000   89.550000   \n",
      "2         1.0  41.688644     0.084031  342.801186   866.694915   89.526000   \n",
      "3         0.0   2.302368     0.081611  136.744746   823.440678   87.444000   \n",
      "4         0.0   2.301830     0.106272  154.878983  1054.000000   86.697153   \n",
      "...       ...        ...          ...         ...          ...         ...   \n",
      "3512      1.0   2.655678     0.000000  517.530508  1452.000000   89.690000   \n",
      "3513      1.0   2.656627     0.097709  284.330000   913.067797   88.087169   \n",
      "3514      1.0   2.655682     0.123882  253.031356   947.457627   88.163729   \n",
      "3515      1.0   6.001270     0.410000  115.297797   790.000000   86.963898   \n",
      "3516      1.0   6.001180     0.116818   69.600000   805.000000   86.910576   \n",
      "\n",
      "      pl_imppar  st_teff   st_mass    st_met   st_logg  \n",
      "0      0.478559  5766.00  1.670000 -0.150000  4.500000  \n",
      "1      0.500288  5766.00  0.960000 -0.150000  4.500000  \n",
      "2      0.478203  5703.00  0.960000 -0.060000  4.380000  \n",
      "3      0.608966  4720.00  0.696441 -0.060000  4.500000  \n",
      "4      0.420000  4616.52  0.730000 -0.030000  4.540000  \n",
      "...         ...      ...       ...       ...       ...  \n",
      "3512   0.047000  6112.00  1.090000 -0.055186  4.200678  \n",
      "3513   0.520203  5634.18  0.788644  0.118000  4.460169  \n",
      "3514   0.499559  5426.00  0.765085 -0.008763  4.500000  \n",
      "3515   0.650000  4716.00  0.690000 -0.470000  4.620000  \n",
      "3516   0.387000  4716.00  0.690000 -0.470000  4.620000  \n",
      "\n",
      "[3517 rows x 11 columns]\n"
     ]
    }
   ],
   "source": [
    "### Reorder K2 Dataset to Match Kepler Dataset order for Neural Network Models ###\n",
    "\n",
    "k2_knn_inputer = k2_knn_inputer[['sy_pnum',\n",
    "                                'pl_orbper',\n",
    "                                'pl_orbeccen',\n",
    "                                'pl_insol',\n",
    "                                'pl_eqt',\n",
    "                                'pl_orbincl',\n",
    "                                'pl_imppar',\n",
    "                                'st_teff',\n",
    "                                'st_mass',\n",
    "                                'st_met',\n",
    "                                'st_logg',]]\n",
    "\n",
    "print(k2_knn_inputer)"
   ]
  },
  {
   "cell_type": "code",
   "execution_count": 89,
   "metadata": {},
   "outputs": [
    {
     "name": "stdout",
     "output_type": "stream",
     "text": [
      "      Confirmed  False Positive\n",
      "0      0.518109        0.481891\n",
      "1      0.532657        0.467343\n",
      "2      0.520652        0.479348\n",
      "3      0.501157        0.498843\n",
      "4      0.467103        0.532897\n",
      "...         ...             ...\n",
      "3512   0.455974        0.544026\n",
      "3513   0.518111        0.481889\n",
      "3514   0.509082        0.490918\n",
      "3515   0.506479        0.493521\n",
      "3516   0.499644        0.500356\n",
      "\n",
      "[3517 rows x 2 columns]\n"
     ]
    }
   ],
   "source": [
    "### Transpose Model output into DataFrame ###\n",
    "\n",
    "k2_model4_output = pd.DataFrame(model4.predict(k2_knn_inputer), columns = ['Confirmed', 'False Positive'])\n",
    "print(k2_model4_output)"
   ]
  },
  {
   "cell_type": "code",
   "execution_count": 90,
   "metadata": {},
   "outputs": [
    {
     "name": "stdout",
     "output_type": "stream",
     "text": [
      "      Confirmed  False Positive\n",
      "0      0.550586        0.449414\n",
      "1      0.575936        0.424064\n",
      "2      0.554432        0.445568\n",
      "3      0.546288        0.453712\n",
      "4      0.498383        0.501617\n",
      "...         ...             ...\n",
      "3512   0.486657        0.513343\n",
      "3513   0.550052        0.449948\n",
      "3514   0.544371        0.455629\n",
      "3515   0.549534        0.450466\n",
      "3516   0.547752        0.452248\n",
      "\n",
      "[3517 rows x 2 columns]\n"
     ]
    }
   ],
   "source": [
    "### Transpose Model output into DataFrame ###\n",
    "\n",
    "k2_model6_output = pd.DataFrame(model6.predict(k2_knn_inputer), columns = ['Confirmed', 'False Positive'])\n",
    "print(k2_model6_output)"
   ]
  },
  {
   "cell_type": "code",
   "execution_count": 91,
   "metadata": {},
   "outputs": [],
   "source": [
    "### Create a Function that Encodes Values into Labels for the Model Outputs ###\n",
    "\n",
    "def exoplanet_classification(dataframe):\n",
    "    col_1 = dataframe['Confirmed']\n",
    "    col_2 = dataframe['False Positive']\n",
    "    \n",
    "    out_col_1 = []\n",
    "    out_col_2 = []\n",
    "\n",
    "    for x in col_1:\n",
    "        if x >= 0.528:\n",
    "            out_col_1.append(\"Confirmed\")\n",
    "        else:\n",
    "            out_col_1.append(\"Candidate\")\n",
    "\n",
    "    for y in col_2:\n",
    "        if y >= 0.535:\n",
    "            out_col_2.append(\"False Positive\")\n",
    "        else:\n",
    "            out_col_2.append(\"Candidate\")\n",
    "       \n",
    "    \n",
    "    return out_col_1, out_col_2"
   ]
  },
  {
   "cell_type": "code",
   "execution_count": 92,
   "metadata": {},
   "outputs": [
    {
     "name": "stdout",
     "output_type": "stream",
     "text": [
      "      Confirmed  False Positive\n",
      "0     Candidate       Candidate\n",
      "1     Confirmed       Candidate\n",
      "2     Candidate       Candidate\n",
      "3     Candidate       Candidate\n",
      "4     Candidate       Candidate\n",
      "...         ...             ...\n",
      "3512  Candidate  False Positive\n",
      "3513  Candidate       Candidate\n",
      "3514  Candidate       Candidate\n",
      "3515  Candidate       Candidate\n",
      "3516  Candidate       Candidate\n",
      "\n",
      "[3517 rows x 2 columns]\n"
     ]
    }
   ],
   "source": [
    "### Apply Classification Function ###\n",
    "\n",
    "k2_mod4_conf, k2_mod4_fp = exoplanet_classification(k2_model4_output)\n",
    "\n",
    "k2_mod4_conf = pd.DataFrame(k2_mod4_conf, columns = ['Confirmed'])\n",
    "k2_mod4_fp = pd.DataFrame(k2_mod4_fp, columns = ['False Positive'])\n",
    "\n",
    "k2_mod4_full = pd.concat([k2_mod4_conf, k2_mod4_fp], axis = 1)\n",
    "\n",
    "print(k2_mod4_full)"
   ]
  },
  {
   "cell_type": "code",
   "execution_count": 93,
   "metadata": {},
   "outputs": [
    {
     "name": "stdout",
     "output_type": "stream",
     "text": [
      "      Confirmed False Positive\n",
      "0     Confirmed      Candidate\n",
      "1     Confirmed      Candidate\n",
      "2     Confirmed      Candidate\n",
      "3     Confirmed      Candidate\n",
      "4     Candidate      Candidate\n",
      "...         ...            ...\n",
      "3512  Candidate      Candidate\n",
      "3513  Confirmed      Candidate\n",
      "3514  Confirmed      Candidate\n",
      "3515  Confirmed      Candidate\n",
      "3516  Confirmed      Candidate\n",
      "\n",
      "[3517 rows x 2 columns]\n"
     ]
    }
   ],
   "source": [
    "### Apply Classification Function ###\n",
    "\n",
    "k2_mod6_conf, k2_mod6_fp = exoplanet_classification(k2_model6_output)\n",
    "\n",
    "k2_mod6_conf = pd.DataFrame(k2_mod6_conf, columns = ['Confirmed'])\n",
    "k2_mod6_fp = pd.DataFrame(k2_mod6_fp, columns = ['False Positive'])\n",
    "\n",
    "k2_mod6_full = pd.concat([k2_mod6_conf, k2_mod6_fp], axis = 1)\n",
    "\n",
    "print(k2_mod6_full)"
   ]
  },
  {
   "cell_type": "code",
   "execution_count": 94,
   "metadata": {},
   "outputs": [],
   "source": [
    "### Create a Function to Combine 2 Columns into 1, then Create another function to reduce the combined values into a single label ###\n",
    "\n",
    "def column_reduction(dataframe):\n",
    "    trans_col = dataframe['Confirmed'] + ',' + dataframe['False Positive']\n",
    "    return trans_col\n",
    "\n",
    "def entry_reduction(dataframe):\n",
    "    output_col = []\n",
    "    for x in dataframe:\n",
    "        if x == (\"Confirmed,Candidate\"):\n",
    "            output_col.append(\"CONFIRMED\")\n",
    "        elif x == (\"Candidate,False Positive\"):\n",
    "            output_col.append(\"FALSE POSITIVE\")\n",
    "        else:\n",
    "            output_col.append(\"CANDIDATE\")\n",
    "\n",
    "    return output_col\n"
   ]
  },
  {
   "cell_type": "code",
   "execution_count": 95,
   "metadata": {},
   "outputs": [
    {
     "name": "stdout",
     "output_type": "stream",
     "text": [
      "               Class\n",
      "0          CANDIDATE\n",
      "1          CONFIRMED\n",
      "2          CANDIDATE\n",
      "3          CANDIDATE\n",
      "4          CANDIDATE\n",
      "...              ...\n",
      "3512  FALSE POSITIVE\n",
      "3513       CANDIDATE\n",
      "3514       CANDIDATE\n",
      "3515       CANDIDATE\n",
      "3516       CANDIDATE\n",
      "\n",
      "[3517 rows x 1 columns]\n"
     ]
    }
   ],
   "source": [
    "### Apply Column Reduction and Label Functions to Model Outputs ###\n",
    "\n",
    "k2_mod4_trans = column_reduction(k2_mod4_full)\n",
    "k2_mod4_for_class = pd.DataFrame(entry_reduction(k2_mod4_trans), columns = ['Class'])\n",
    "k2_mod4_output = pd.DataFrame(entry_reduction(k2_mod4_trans), columns = ['disposition'])\n",
    "\n",
    "\n",
    "print(k2_mod4_for_class)"
   ]
  },
  {
   "cell_type": "code",
   "execution_count": 96,
   "metadata": {},
   "outputs": [
    {
     "name": "stdout",
     "output_type": "stream",
     "text": [
      "          Class\n",
      "0     CONFIRMED\n",
      "1     CONFIRMED\n",
      "2     CONFIRMED\n",
      "3     CONFIRMED\n",
      "4     CANDIDATE\n",
      "...         ...\n",
      "3512  CANDIDATE\n",
      "3513  CONFIRMED\n",
      "3514  CONFIRMED\n",
      "3515  CONFIRMED\n",
      "3516  CONFIRMED\n",
      "\n",
      "[3517 rows x 1 columns]\n"
     ]
    }
   ],
   "source": [
    "### Apply Column Reduction and Label Functions to Model Outputs ###\n",
    "\n",
    "k2_mod6_trans = column_reduction(k2_mod6_full)\n",
    "k2_mod6_for_class = pd.DataFrame(entry_reduction(k2_mod6_trans), columns = ['Class'])\n",
    "k2_mod6_output = pd.DataFrame(entry_reduction(k2_mod6_trans), columns = ['disposition'])\n",
    "\n",
    "\n",
    "print(k2_mod6_for_class)"
   ]
  },
  {
   "cell_type": "code",
   "execution_count": 97,
   "metadata": {},
   "outputs": [
    {
     "name": "stdout",
     "output_type": "stream",
     "text": [
      "     disposition\n",
      "0      CONFIRMED\n",
      "1      CONFIRMED\n",
      "2      CONFIRMED\n",
      "3      CANDIDATE\n",
      "4      CANDIDATE\n",
      "...          ...\n",
      "3512   CONFIRMED\n",
      "3513   CONFIRMED\n",
      "3514   CONFIRMED\n",
      "3515   CONFIRMED\n",
      "3516   CONFIRMED\n",
      "\n",
      "[3517 rows x 1 columns]\n"
     ]
    }
   ],
   "source": [
    "k2_labels = k2_data['disposition']\n",
    "k2_conf = k2_labels.to_frame()\n",
    "print(k2_conf)"
   ]
  },
  {
   "cell_type": "code",
   "execution_count": 98,
   "metadata": {},
   "outputs": [
    {
     "data": {
      "text/html": [
       "<div>\n",
       "<style scoped>\n",
       "    .dataframe tbody tr th:only-of-type {\n",
       "        vertical-align: middle;\n",
       "    }\n",
       "\n",
       "    .dataframe tbody tr th {\n",
       "        vertical-align: top;\n",
       "    }\n",
       "\n",
       "    .dataframe thead tr th {\n",
       "        text-align: left;\n",
       "    }\n",
       "</style>\n",
       "<table border=\"1\" class=\"dataframe\">\n",
       "  <thead>\n",
       "    <tr>\n",
       "      <th></th>\n",
       "      <th colspan=\"2\" halign=\"left\">disposition</th>\n",
       "    </tr>\n",
       "    <tr>\n",
       "      <th></th>\n",
       "      <th>self</th>\n",
       "      <th>other</th>\n",
       "    </tr>\n",
       "  </thead>\n",
       "  <tbody>\n",
       "    <tr>\n",
       "      <th>0</th>\n",
       "      <td>CANDIDATE</td>\n",
       "      <td>CONFIRMED</td>\n",
       "    </tr>\n",
       "    <tr>\n",
       "      <th>2</th>\n",
       "      <td>CANDIDATE</td>\n",
       "      <td>CONFIRMED</td>\n",
       "    </tr>\n",
       "    <tr>\n",
       "      <th>8</th>\n",
       "      <td>FALSE POSITIVE</td>\n",
       "      <td>CANDIDATE</td>\n",
       "    </tr>\n",
       "    <tr>\n",
       "      <th>10</th>\n",
       "      <td>FALSE POSITIVE</td>\n",
       "      <td>CANDIDATE</td>\n",
       "    </tr>\n",
       "    <tr>\n",
       "      <th>11</th>\n",
       "      <td>FALSE POSITIVE</td>\n",
       "      <td>CANDIDATE</td>\n",
       "    </tr>\n",
       "    <tr>\n",
       "      <th>...</th>\n",
       "      <td>...</td>\n",
       "      <td>...</td>\n",
       "    </tr>\n",
       "    <tr>\n",
       "      <th>3512</th>\n",
       "      <td>FALSE POSITIVE</td>\n",
       "      <td>CONFIRMED</td>\n",
       "    </tr>\n",
       "    <tr>\n",
       "      <th>3513</th>\n",
       "      <td>CANDIDATE</td>\n",
       "      <td>CONFIRMED</td>\n",
       "    </tr>\n",
       "    <tr>\n",
       "      <th>3514</th>\n",
       "      <td>CANDIDATE</td>\n",
       "      <td>CONFIRMED</td>\n",
       "    </tr>\n",
       "    <tr>\n",
       "      <th>3515</th>\n",
       "      <td>CANDIDATE</td>\n",
       "      <td>CONFIRMED</td>\n",
       "    </tr>\n",
       "    <tr>\n",
       "      <th>3516</th>\n",
       "      <td>CANDIDATE</td>\n",
       "      <td>CONFIRMED</td>\n",
       "    </tr>\n",
       "  </tbody>\n",
       "</table>\n",
       "<p>2279 rows × 2 columns</p>\n",
       "</div>"
      ],
      "text/plain": [
       "         disposition           \n",
       "                self      other\n",
       "0          CANDIDATE  CONFIRMED\n",
       "2          CANDIDATE  CONFIRMED\n",
       "8     FALSE POSITIVE  CANDIDATE\n",
       "10    FALSE POSITIVE  CANDIDATE\n",
       "11    FALSE POSITIVE  CANDIDATE\n",
       "...              ...        ...\n",
       "3512  FALSE POSITIVE  CONFIRMED\n",
       "3513       CANDIDATE  CONFIRMED\n",
       "3514       CANDIDATE  CONFIRMED\n",
       "3515       CANDIDATE  CONFIRMED\n",
       "3516       CANDIDATE  CONFIRMED\n",
       "\n",
       "[2279 rows x 2 columns]"
      ]
     },
     "execution_count": 98,
     "metadata": {},
     "output_type": "execute_result"
    }
   ],
   "source": [
    "### Compare the Model 4 output of the K2 data to the original K2 Labels ###\n",
    "\n",
    "k2_mod4_output.compare(k2_conf)\n"
   ]
  },
  {
   "cell_type": "code",
   "execution_count": 99,
   "metadata": {},
   "outputs": [
    {
     "data": {
      "text/html": [
       "<div>\n",
       "<style scoped>\n",
       "    .dataframe tbody tr th:only-of-type {\n",
       "        vertical-align: middle;\n",
       "    }\n",
       "\n",
       "    .dataframe tbody tr th {\n",
       "        vertical-align: top;\n",
       "    }\n",
       "\n",
       "    .dataframe thead tr th {\n",
       "        text-align: left;\n",
       "    }\n",
       "</style>\n",
       "<table border=\"1\" class=\"dataframe\">\n",
       "  <thead>\n",
       "    <tr>\n",
       "      <th></th>\n",
       "      <th colspan=\"2\" halign=\"left\">disposition</th>\n",
       "    </tr>\n",
       "    <tr>\n",
       "      <th></th>\n",
       "      <th>self</th>\n",
       "      <th>other</th>\n",
       "    </tr>\n",
       "  </thead>\n",
       "  <tbody>\n",
       "    <tr>\n",
       "      <th>3</th>\n",
       "      <td>CONFIRMED</td>\n",
       "      <td>CANDIDATE</td>\n",
       "    </tr>\n",
       "    <tr>\n",
       "      <th>5</th>\n",
       "      <td>CONFIRMED</td>\n",
       "      <td>CANDIDATE</td>\n",
       "    </tr>\n",
       "    <tr>\n",
       "      <th>6</th>\n",
       "      <td>CONFIRMED</td>\n",
       "      <td>CANDIDATE</td>\n",
       "    </tr>\n",
       "    <tr>\n",
       "      <th>7</th>\n",
       "      <td>CONFIRMED</td>\n",
       "      <td>CANDIDATE</td>\n",
       "    </tr>\n",
       "    <tr>\n",
       "      <th>9</th>\n",
       "      <td>CONFIRMED</td>\n",
       "      <td>CANDIDATE</td>\n",
       "    </tr>\n",
       "    <tr>\n",
       "      <th>...</th>\n",
       "      <td>...</td>\n",
       "      <td>...</td>\n",
       "    </tr>\n",
       "    <tr>\n",
       "      <th>3503</th>\n",
       "      <td>CANDIDATE</td>\n",
       "      <td>CONFIRMED</td>\n",
       "    </tr>\n",
       "    <tr>\n",
       "      <th>3507</th>\n",
       "      <td>CANDIDATE</td>\n",
       "      <td>CONFIRMED</td>\n",
       "    </tr>\n",
       "    <tr>\n",
       "      <th>3508</th>\n",
       "      <td>CANDIDATE</td>\n",
       "      <td>CONFIRMED</td>\n",
       "    </tr>\n",
       "    <tr>\n",
       "      <th>3510</th>\n",
       "      <td>CANDIDATE</td>\n",
       "      <td>CONFIRMED</td>\n",
       "    </tr>\n",
       "    <tr>\n",
       "      <th>3512</th>\n",
       "      <td>CANDIDATE</td>\n",
       "      <td>CONFIRMED</td>\n",
       "    </tr>\n",
       "  </tbody>\n",
       "</table>\n",
       "<p>1699 rows × 2 columns</p>\n",
       "</div>"
      ],
      "text/plain": [
       "     disposition           \n",
       "            self      other\n",
       "3      CONFIRMED  CANDIDATE\n",
       "5      CONFIRMED  CANDIDATE\n",
       "6      CONFIRMED  CANDIDATE\n",
       "7      CONFIRMED  CANDIDATE\n",
       "9      CONFIRMED  CANDIDATE\n",
       "...          ...        ...\n",
       "3503   CANDIDATE  CONFIRMED\n",
       "3507   CANDIDATE  CONFIRMED\n",
       "3508   CANDIDATE  CONFIRMED\n",
       "3510   CANDIDATE  CONFIRMED\n",
       "3512   CANDIDATE  CONFIRMED\n",
       "\n",
       "[1699 rows x 2 columns]"
      ]
     },
     "execution_count": 99,
     "metadata": {},
     "output_type": "execute_result"
    }
   ],
   "source": [
    "### Compare the Model 6 output of the K2 data to the original K2 Labels ###\n",
    "\n",
    "k2_mod6_output.compare(k2_conf)\n"
   ]
  },
  {
   "cell_type": "code",
   "execution_count": 100,
   "metadata": {},
   "outputs": [],
   "source": [
    "### Create a Function that would combine any Confirmed or False Positive Values from the original K2 Labels into the Model Outputs ###\n",
    "\n",
    "def disposition_adjustment(dataframe):\n",
    "    output_col = []\n",
    "    for x in dataframe['Classification']:\n",
    "        if x == (\"CANDIDATE,CONFIRMED\"):\n",
    "            output_col.append(\"CONFIRMED\")\n",
    "        elif x == (\"CONFIRMED,CANDIDATE\"):\n",
    "            output_col.append(\"CONFIRMED\")\n",
    "        elif x == (\"CANDIDATE,FALSE POSITIVE\"):\n",
    "            output_col.append(\"FALSE POSITIVE\")\n",
    "        elif x == (\"FALSE POSITIVE,CONDIDATE\"):\n",
    "            output_col.append(\"FALSE POSITIVE\")\n",
    "        elif x == (\"CONFIRMED,CONFIRMED\"):\n",
    "            output_col.append(\"CONFIRMED\")\n",
    "        elif x == (\"FALSE POSITIVE,FALSE POSITIVE\"):\n",
    "            output_col.append(\"FALSE POSITIVE\")\n",
    "        else:\n",
    "            output_col.append(\"CANDIDATE\")\n",
    "\n",
    "    return output_col"
   ]
  },
  {
   "cell_type": "code",
   "execution_count": 101,
   "metadata": {},
   "outputs": [
    {
     "name": "stdout",
     "output_type": "stream",
     "text": [
      "                Classification\n",
      "0          CANDIDATE,CONFIRMED\n",
      "1          CONFIRMED,CONFIRMED\n",
      "2          CANDIDATE,CONFIRMED\n",
      "3          CANDIDATE,CANDIDATE\n",
      "4          CANDIDATE,CANDIDATE\n",
      "...                        ...\n",
      "3512  FALSE POSITIVE,CONFIRMED\n",
      "3513       CANDIDATE,CONFIRMED\n",
      "3514       CANDIDATE,CONFIRMED\n",
      "3515       CANDIDATE,CONFIRMED\n",
      "3516       CANDIDATE,CONFIRMED\n",
      "\n",
      "[3517 rows x 1 columns]\n"
     ]
    }
   ],
   "source": [
    "### Combine Model 4 Output with K2 Labels ###\n",
    "\n",
    "k2_mod4_class_trans = k2_mod4_for_class['Class'] + ',' + k2_conf['disposition']\n",
    "k2_mod4_class_trans = pd.DataFrame(k2_mod4_class_trans)\n",
    "k2_mod4_class_trans.columns = ['Classification']\n",
    "print(k2_mod4_class_trans)"
   ]
  },
  {
   "cell_type": "code",
   "execution_count": 102,
   "metadata": {},
   "outputs": [
    {
     "name": "stdout",
     "output_type": "stream",
     "text": [
      "           Classification\n",
      "0     CONFIRMED,CONFIRMED\n",
      "1     CONFIRMED,CONFIRMED\n",
      "2     CONFIRMED,CONFIRMED\n",
      "3     CONFIRMED,CANDIDATE\n",
      "4     CANDIDATE,CANDIDATE\n",
      "...                   ...\n",
      "3512  CANDIDATE,CONFIRMED\n",
      "3513  CONFIRMED,CONFIRMED\n",
      "3514  CONFIRMED,CONFIRMED\n",
      "3515  CONFIRMED,CONFIRMED\n",
      "3516  CONFIRMED,CONFIRMED\n",
      "\n",
      "[3517 rows x 1 columns]\n"
     ]
    }
   ],
   "source": [
    "### Combine Model 6 Output with K2 Labels ###\n",
    "\n",
    "k2_mod6_class_trans = k2_mod6_for_class['Class'] + ',' + k2_conf['disposition']\n",
    "k2_mod6_class_trans = pd.DataFrame(k2_mod6_class_trans)\n",
    "k2_mod6_class_trans.columns = ['Classification']\n",
    "print(k2_mod6_class_trans)"
   ]
  },
  {
   "cell_type": "code",
   "execution_count": 103,
   "metadata": {},
   "outputs": [
    {
     "name": "stdout",
     "output_type": "stream",
     "text": [
      "     disposition\n",
      "0      CONFIRMED\n",
      "1      CONFIRMED\n",
      "2      CONFIRMED\n",
      "3      CANDIDATE\n",
      "4      CANDIDATE\n",
      "...          ...\n",
      "3512   CANDIDATE\n",
      "3513   CONFIRMED\n",
      "3514   CONFIRMED\n",
      "3515   CONFIRMED\n",
      "3516   CONFIRMED\n",
      "\n",
      "[3517 rows x 1 columns]\n"
     ]
    }
   ],
   "source": [
    "### Apply the Label Combine Function from Above with the Model 4 Output ###\n",
    "\n",
    "k2_model4_adjusted = disposition_adjustment(k2_mod4_class_trans)\n",
    "k2_model4_adjusted = pd.DataFrame(k2_model4_adjusted)\n",
    "k2_model4_adjusted.columns = ['disposition']\n",
    "\n",
    "print(k2_model4_adjusted)"
   ]
  },
  {
   "cell_type": "code",
   "execution_count": 104,
   "metadata": {},
   "outputs": [
    {
     "name": "stdout",
     "output_type": "stream",
     "text": [
      "     disposition\n",
      "0      CONFIRMED\n",
      "1      CONFIRMED\n",
      "2      CONFIRMED\n",
      "3      CONFIRMED\n",
      "4      CANDIDATE\n",
      "...          ...\n",
      "3512   CONFIRMED\n",
      "3513   CONFIRMED\n",
      "3514   CONFIRMED\n",
      "3515   CONFIRMED\n",
      "3516   CONFIRMED\n",
      "\n",
      "[3517 rows x 1 columns]\n"
     ]
    }
   ],
   "source": [
    "### Apply the Label Combine Function from Above with the Model 6 Output ###\n",
    "\n",
    "k2_model6_adjusted = disposition_adjustment(k2_mod6_class_trans)\n",
    "k2_model6_adjusted = pd.DataFrame(k2_model6_adjusted)\n",
    "k2_model6_adjusted.columns = ['disposition']\n",
    "\n",
    "print(k2_model6_adjusted)"
   ]
  },
  {
   "cell_type": "code",
   "execution_count": 105,
   "metadata": {},
   "outputs": [
    {
     "data": {
      "text/html": [
       "<div>\n",
       "<style scoped>\n",
       "    .dataframe tbody tr th:only-of-type {\n",
       "        vertical-align: middle;\n",
       "    }\n",
       "\n",
       "    .dataframe tbody tr th {\n",
       "        vertical-align: top;\n",
       "    }\n",
       "\n",
       "    .dataframe thead tr th {\n",
       "        text-align: left;\n",
       "    }\n",
       "</style>\n",
       "<table border=\"1\" class=\"dataframe\">\n",
       "  <thead>\n",
       "    <tr>\n",
       "      <th></th>\n",
       "      <th colspan=\"2\" halign=\"left\">disposition</th>\n",
       "    </tr>\n",
       "    <tr>\n",
       "      <th></th>\n",
       "      <th>self</th>\n",
       "      <th>other</th>\n",
       "    </tr>\n",
       "  </thead>\n",
       "  <tbody>\n",
       "    <tr>\n",
       "      <th>18</th>\n",
       "      <td>CANDIDATE</td>\n",
       "      <td>CONFIRMED</td>\n",
       "    </tr>\n",
       "    <tr>\n",
       "      <th>41</th>\n",
       "      <td>CANDIDATE</td>\n",
       "      <td>CONFIRMED</td>\n",
       "    </tr>\n",
       "    <tr>\n",
       "      <th>49</th>\n",
       "      <td>CANDIDATE</td>\n",
       "      <td>CONFIRMED</td>\n",
       "    </tr>\n",
       "    <tr>\n",
       "      <th>51</th>\n",
       "      <td>CANDIDATE</td>\n",
       "      <td>CONFIRMED</td>\n",
       "    </tr>\n",
       "    <tr>\n",
       "      <th>54</th>\n",
       "      <td>CANDIDATE</td>\n",
       "      <td>CONFIRMED</td>\n",
       "    </tr>\n",
       "    <tr>\n",
       "      <th>...</th>\n",
       "      <td>...</td>\n",
       "      <td>...</td>\n",
       "    </tr>\n",
       "    <tr>\n",
       "      <th>3460</th>\n",
       "      <td>CONFIRMED</td>\n",
       "      <td>CANDIDATE</td>\n",
       "    </tr>\n",
       "    <tr>\n",
       "      <th>3502</th>\n",
       "      <td>CONFIRMED</td>\n",
       "      <td>CANDIDATE</td>\n",
       "    </tr>\n",
       "    <tr>\n",
       "      <th>3507</th>\n",
       "      <td>CONFIRMED</td>\n",
       "      <td>CANDIDATE</td>\n",
       "    </tr>\n",
       "    <tr>\n",
       "      <th>3510</th>\n",
       "      <td>CONFIRMED</td>\n",
       "      <td>CANDIDATE</td>\n",
       "    </tr>\n",
       "    <tr>\n",
       "      <th>3512</th>\n",
       "      <td>CONFIRMED</td>\n",
       "      <td>CANDIDATE</td>\n",
       "    </tr>\n",
       "  </tbody>\n",
       "</table>\n",
       "<p>338 rows × 2 columns</p>\n",
       "</div>"
      ],
      "text/plain": [
       "     disposition           \n",
       "            self      other\n",
       "18     CANDIDATE  CONFIRMED\n",
       "41     CANDIDATE  CONFIRMED\n",
       "49     CANDIDATE  CONFIRMED\n",
       "51     CANDIDATE  CONFIRMED\n",
       "54     CANDIDATE  CONFIRMED\n",
       "...          ...        ...\n",
       "3460   CONFIRMED  CANDIDATE\n",
       "3502   CONFIRMED  CANDIDATE\n",
       "3507   CONFIRMED  CANDIDATE\n",
       "3510   CONFIRMED  CANDIDATE\n",
       "3512   CONFIRMED  CANDIDATE\n",
       "\n",
       "[338 rows x 2 columns]"
      ]
     },
     "execution_count": 105,
     "metadata": {},
     "output_type": "execute_result"
    }
   ],
   "source": [
    "k2_conf.compare(k2_model4_adjusted)"
   ]
  },
  {
   "cell_type": "code",
   "execution_count": 106,
   "metadata": {},
   "outputs": [
    {
     "data": {
      "text/html": [
       "<div>\n",
       "<style scoped>\n",
       "    .dataframe tbody tr th:only-of-type {\n",
       "        vertical-align: middle;\n",
       "    }\n",
       "\n",
       "    .dataframe tbody tr th {\n",
       "        vertical-align: top;\n",
       "    }\n",
       "\n",
       "    .dataframe thead tr th {\n",
       "        text-align: left;\n",
       "    }\n",
       "</style>\n",
       "<table border=\"1\" class=\"dataframe\">\n",
       "  <thead>\n",
       "    <tr>\n",
       "      <th></th>\n",
       "      <th colspan=\"2\" halign=\"left\">disposition</th>\n",
       "    </tr>\n",
       "    <tr>\n",
       "      <th></th>\n",
       "      <th>self</th>\n",
       "      <th>other</th>\n",
       "    </tr>\n",
       "  </thead>\n",
       "  <tbody>\n",
       "    <tr>\n",
       "      <th>3</th>\n",
       "      <td>CANDIDATE</td>\n",
       "      <td>CONFIRMED</td>\n",
       "    </tr>\n",
       "    <tr>\n",
       "      <th>5</th>\n",
       "      <td>CANDIDATE</td>\n",
       "      <td>CONFIRMED</td>\n",
       "    </tr>\n",
       "    <tr>\n",
       "      <th>6</th>\n",
       "      <td>CANDIDATE</td>\n",
       "      <td>CONFIRMED</td>\n",
       "    </tr>\n",
       "    <tr>\n",
       "      <th>7</th>\n",
       "      <td>CANDIDATE</td>\n",
       "      <td>CONFIRMED</td>\n",
       "    </tr>\n",
       "    <tr>\n",
       "      <th>9</th>\n",
       "      <td>CANDIDATE</td>\n",
       "      <td>CONFIRMED</td>\n",
       "    </tr>\n",
       "    <tr>\n",
       "      <th>...</th>\n",
       "      <td>...</td>\n",
       "      <td>...</td>\n",
       "    </tr>\n",
       "    <tr>\n",
       "      <th>3441</th>\n",
       "      <td>CONFIRMED</td>\n",
       "      <td>CANDIDATE</td>\n",
       "    </tr>\n",
       "    <tr>\n",
       "      <th>3442</th>\n",
       "      <td>CONFIRMED</td>\n",
       "      <td>CANDIDATE</td>\n",
       "    </tr>\n",
       "    <tr>\n",
       "      <th>3443</th>\n",
       "      <td>CONFIRMED</td>\n",
       "      <td>CANDIDATE</td>\n",
       "    </tr>\n",
       "    <tr>\n",
       "      <th>3458</th>\n",
       "      <td>CONFIRMED</td>\n",
       "      <td>CANDIDATE</td>\n",
       "    </tr>\n",
       "    <tr>\n",
       "      <th>3502</th>\n",
       "      <td>CONFIRMED</td>\n",
       "      <td>CANDIDATE</td>\n",
       "    </tr>\n",
       "  </tbody>\n",
       "</table>\n",
       "<p>1376 rows × 2 columns</p>\n",
       "</div>"
      ],
      "text/plain": [
       "     disposition           \n",
       "            self      other\n",
       "3      CANDIDATE  CONFIRMED\n",
       "5      CANDIDATE  CONFIRMED\n",
       "6      CANDIDATE  CONFIRMED\n",
       "7      CANDIDATE  CONFIRMED\n",
       "9      CANDIDATE  CONFIRMED\n",
       "...          ...        ...\n",
       "3441   CONFIRMED  CANDIDATE\n",
       "3442   CONFIRMED  CANDIDATE\n",
       "3443   CONFIRMED  CANDIDATE\n",
       "3458   CONFIRMED  CANDIDATE\n",
       "3502   CONFIRMED  CANDIDATE\n",
       "\n",
       "[1376 rows x 2 columns]"
      ]
     },
     "execution_count": 106,
     "metadata": {},
     "output_type": "execute_result"
    }
   ],
   "source": [
    "k2_conf.compare(k2_model6_adjusted)"
   ]
  },
  {
   "cell_type": "code",
   "execution_count": null,
   "metadata": {},
   "outputs": [],
   "source": []
  }
 ],
 "metadata": {
  "kernelspec": {
   "display_name": "Python 3.8.5 ('base')",
   "language": "python",
   "name": "python3"
  },
  "language_info": {
   "codemirror_mode": {
    "name": "ipython",
    "version": 3
   },
   "file_extension": ".py",
   "mimetype": "text/x-python",
   "name": "python",
   "nbconvert_exporter": "python",
   "pygments_lexer": "ipython3",
   "version": "3.8.5"
  },
  "orig_nbformat": 4,
  "vscode": {
   "interpreter": {
    "hash": "74ea95fb170e632726555929c75aec84a8b77371ff792f0b51b2e32c21952b9f"
   }
  }
 },
 "nbformat": 4,
 "nbformat_minor": 2
}
